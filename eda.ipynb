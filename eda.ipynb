{
 "cells": [
  {
   "cell_type": "code",
   "execution_count": 264,
   "id": "028f587b-91e9-4f67-839c-a75b57331d10",
   "metadata": {},
   "outputs": [],
   "source": [
    "import numpy as np\n",
    "import pandas as pd\n",
    "import plotly.express as px\n",
    "import matplotlib.pyplot as plt\n",
    "import seaborn as sns\n",
    "\n",
    "pd.options.mode.chained_assignment = None\n",
    "\n",
    "import warnings\n",
    "\n",
    "warnings.simplefilter(action='ignore', category=FutureWarning)\n",
    "warnings.simplefilter(action='ignore', category=UserWarning)"
   ]
  },
  {
   "cell_type": "code",
   "execution_count": 263,
   "id": "b29cd4f6-8c3f-418d-ad7d-76ee3f8c1d68",
   "metadata": {},
   "outputs": [],
   "source": [
    "df = pd.read_csv('data/seuk_scores.csv', sep = ';', parse_dates=['Date'])\n",
    "df = df.drop('Date', axis = 1)"
   ]
  },
  {
   "cell_type": "code",
   "execution_count": 113,
   "id": "bb701af6-065d-43da-add9-90359d4cf5d1",
   "metadata": {},
   "outputs": [],
   "source": [
    "def count(lst):\n",
    "    return sum(bool(x) for x in lst)"
   ]
  },
  {
   "cell_type": "code",
   "execution_count": 250,
   "id": "bf5b404d-a461-4890-9832-a108711b0393",
   "metadata": {},
   "outputs": [],
   "source": [
    "def played(df, name, position = None):\n",
    "    \n",
    "    '''Calculating all matches played by played'''\n",
    "    \n",
    "    if position == None:       \n",
    "        played = df.applymap(lambda x: name.lower() in str(x).lower()).any(1).sum()\n",
    "        \n",
    "    elif position == 'attack':\n",
    "        played = len(df.loc[(df['Attack_1'] == name) | (df['Attack_2'] == name)])\n",
    "    \n",
    "    elif position == 'defence':\n",
    "        played = len(df.loc[(df['Defence_1'] == name) | (df['Defence_2'] == name)])\n",
    "        \n",
    "    \n",
    "    return played"
   ]
  },
  {
   "cell_type": "code",
   "execution_count": 267,
   "id": "afeff0aa-7bd5-4f85-8183-1161c69bb25e",
   "metadata": {},
   "outputs": [],
   "source": [
    "def win_rate(df, name, position = None):\n",
    "    \n",
    "    ''' Calculating players win rate '''\n",
    "    \n",
    "    if position == None:\n",
    "        \n",
    "        wins_1 = len(df.loc[((df['Attack_1'] == name) | (df['Defence_1'] == name)) & df['Win'] == 1])\n",
    "        wins_2 = len(df.loc[(df['Win'] == 2) & ((df['Attack_2'] == name) | (df['Defence_2'] == name))])\n",
    "        wins_total = wins_1 + wins_2\n",
    "        all_matches = played(df, name)\n",
    "        winrate = round((wins_total/all_matches) * 100, 1)\n",
    "        \n",
    "    elif position == 'attack':\n",
    "        \n",
    "        wins_1 = len(df.loc[(df['Attack_1'] == name) & (df['Win'] == 1)])\n",
    "        wins_2 = len(df.loc[(df['Attack_2'] == name) & (df['Win'] == 2)])\n",
    "        wins_total = wins_1 + wins_2\n",
    "        all_matches_attack = played(df, name, position = 'attack')\n",
    "        winrate = round((wins_total/all_matches_attack) * 100, 1)\n",
    "    \n",
    "    elif position == 'defence':\n",
    "        wins_1 = len(df.loc[(df['Defence_1'] == name) & (df['Win'] == 1)])\n",
    "        wins_2 = len(df.loc[(df['Defence_2'] == name) & (df['Win'] == 2)])\n",
    "        wins_total = wins_1 + wins_2\n",
    "        all_matches_defence = played(df, name, position = 'defence')\n",
    "        winrate = round((wins_total/all_matches_defence) * 100, 1)\n",
    "    \n",
    "    return winrate"
   ]
  },
  {
   "cell_type": "code",
   "execution_count": 266,
   "id": "e13eac83-9f5e-428c-ae93-78c77558844b",
   "metadata": {},
   "outputs": [],
   "source": [
    "def goals_scores_total(df, name, position = None):\n",
    "    \n",
    "    ''' Calculating total goals scored by player '''\n",
    "    if position == None:\n",
    "\n",
    "        goals_1 = df.loc[(df['Attack_1'] == name) | (df['Defence_1'] == name)]['G1'].sum()\n",
    "        goals_2 = df.loc[(df['Attack_2'] == name) | (df['Defence_2'] == name)]['G2'].sum()\n",
    "        goals_total = goals_1 + goals_2\n",
    "    \n",
    "    elif position == 'attack':\n",
    "        \n",
    "        goals_1 = df.loc[df['Attack_1'] == name]['G1'].sum()\n",
    "        goals_2 = df.loc[df['Attack_2'] == name]['G2'].sum()\n",
    "        goals_total = goals_1 + goals_2\n",
    "        \n",
    "    elif position == 'defence':\n",
    "        \n",
    "        goals_1 = df.loc[df['Defence_1'] == name]['G1'].sum()\n",
    "        goals_2 = df.loc[df['Defence_2'] == name]['G2'].sum()\n",
    "        goals_total = goals_1 + goals_2\n",
    "              \n",
    "        \n",
    "    return goals_total\n"
   ]
  },
  {
   "cell_type": "code",
   "execution_count": 278,
   "id": "0a052bfd-9041-4431-bb6a-eff0b720c598",
   "metadata": {},
   "outputs": [],
   "source": [
    "def goals_lost_total(df, name, position = None):\n",
    "    \n",
    "    ''' Calculating total goals lost by player '''\n",
    "    if position == None:\n",
    "\n",
    "        goals_1 = df.loc[(df['Attack_1'] == name) | (df['Defence_1'] == name)]['G2'].sum()\n",
    "        goals_2 = df.loc[(df['Attack_2'] == name) | (df['Defence_2'] == name)]['G1'].sum()\n",
    "        goals_total = goals_1 + goals_2\n",
    "    \n",
    "    elif position == 'attack':\n",
    "        \n",
    "        goals_1 = df.loc[df['Attack_1'] == name]['G2'].sum()\n",
    "        goals_2 = df.loc[df['Attack_2'] == name]['G1'].sum()\n",
    "        goals_total = goals_1 + goals_2\n",
    "        \n",
    "    elif position == 'defence':\n",
    "        \n",
    "        goals_1 = df.loc[df['Defence_1'] == name]['G2'].sum()\n",
    "        goals_2 = df.loc[df['Defence_2'] == name]['G1'].sum()\n",
    "        goals_total = goals_1 + goals_2\n",
    "              \n",
    "        \n",
    "    return goals_total\n"
   ]
  },
  {
   "cell_type": "code",
   "execution_count": 271,
   "id": "041da4de-b8b2-4a55-a572-a4d1ef027f93",
   "metadata": {},
   "outputs": [],
   "source": [
    "def goals_scores_avg(df, name, position = None):\n",
    "    \n",
    "    ''' Calculating avg goals scored by player per match while on diffrent position '''\n",
    "\n",
    "    if position == None:\n",
    "        \n",
    "        goals = goals_scores_total(df, name)\n",
    "        matches = played(df, name)\n",
    "        avg_goals = round((goals/matches), 1)\n",
    "        \n",
    "    elif position == 'attack':\n",
    "        \n",
    "        goals = goals_scores_total(df, name, position = 'attack')\n",
    "        matches = played(df, name, position = 'attack')\n",
    "        avg_goals = round((goals/matches), 1)\n",
    "        \n",
    "    elif position == 'defence':\n",
    "        \n",
    "        goals = goals_scores_total(df, name, position = 'defence')\n",
    "        matches = played(df, name, position = 'defence')\n",
    "        avg_goals = round((goals/matches), 1)\n",
    "        \n",
    "        \n",
    "    return avg_goals\n",
    "    "
   ]
  },
  {
   "cell_type": "code",
   "execution_count": 279,
   "id": "ae2ade9c-be84-407b-baf5-319345f24656",
   "metadata": {},
   "outputs": [],
   "source": [
    "def goals_lost_avg(df, name, position = None):\n",
    "    \n",
    "    ''' Calculating avg goals lost by player per match while on difftent position '''\n",
    "\n",
    "    if position == None:\n",
    "        \n",
    "        goals = goals_lost_total(df, name)\n",
    "        matches = played(df, name)\n",
    "        avg_goals = round((goals/matches), 1)\n",
    "        \n",
    "    elif position == 'attack':\n",
    "        \n",
    "        goals = goals_lost_total(df, name, position = 'attack')\n",
    "        matches = played(df, name, position = 'attack')\n",
    "        avg_goals = round((goals/matches), 1)\n",
    "        \n",
    "    elif position == 'defence':\n",
    "        \n",
    "        goals = goals_lost_total(df, name, position = 'defence')\n",
    "        matches = played(df, name, position = 'defence')\n",
    "        avg_goals = round((goals/matches), 1)\n",
    "        \n",
    "        \n",
    "    return avg_goals\n",
    "    "
   ]
  },
  {
   "cell_type": "code",
   "execution_count": 116,
   "id": "4c0981be-2358-459b-b596-245d82657359",
   "metadata": {},
   "outputs": [],
   "source": [
    "all_players  = np.unique(df[['Attack_1', 'Defense_1','Attack_2' ,'Defense_2' ]].values)"
   ]
  },
  {
   "cell_type": "code",
   "execution_count": 282,
   "id": "8a3cf811-4af6-4875-bdc5-16e37fdfa03b",
   "metadata": {},
   "outputs": [
    {
     "data": {
      "text/plain": [
       "4.0"
      ]
     },
     "execution_count": 282,
     "metadata": {},
     "output_type": "execute_result"
    }
   ],
   "source": [
    "x = goals_lost_avg(df, 'Szymon', 'attack')\n",
    "x"
   ]
  },
  {
   "cell_type": "code",
   "execution_count": 275,
   "id": "db701ea0-e71d-4a93-a106-407f4ca57a5a",
   "metadata": {},
   "outputs": [
    {
     "data": {
      "text/plain": [
       "5.5"
      ]
     },
     "execution_count": 275,
     "metadata": {},
     "output_type": "execute_result"
    }
   ],
   "source": [
    "x = goals_scores_avg(df, 'Krzysiu', position = 'attack')\n",
    "x"
   ]
  },
  {
   "cell_type": "code",
   "execution_count": 249,
   "id": "cc80c6ef-41ee-4879-8fc3-e6030bb7b69f",
   "metadata": {},
   "outputs": [
    {
     "name": "stdout",
     "output_type": "stream",
     "text": [
      "Dawid: 27\n",
      "Eryk: 5\n",
      "Krzysiu: 22\n",
      "Kuba: 8\n",
      "Szymon: 48\n",
      "Wojtek: 41\n"
     ]
    }
   ],
   "source": [
    "for player in all_players:\n",
    "    print(f'{player}:', goals_total(df, player))"
   ]
  },
  {
   "cell_type": "code",
   "execution_count": 285,
   "id": "0370cbb6-2f1f-4dae-a677-7afd667061d3",
   "metadata": {},
   "outputs": [
    {
     "name": "stdout",
     "output_type": "stream",
     "text": [
      "Dawid: 6.0\n",
      "Eryk: 7.0\n",
      "Krzysiu: 6.2\n",
      "Kuba: 4.0\n",
      "Szymon: 6.0\n",
      "Wojtek: 7.5\n"
     ]
    }
   ],
   "source": [
    "for player in all_players:\n",
    "    print(f'{player}:', goals_lost_avg(df, player, position = 'defence'))\n",
    "    "
   ]
  },
  {
   "cell_type": "code",
   "execution_count": 230,
   "id": "eb44d407-cb96-48dd-b5a9-f0e6e96902a6",
   "metadata": {},
   "outputs": [
    {
     "name": "stdout",
     "output_type": "stream",
     "text": [
      "Dawid 40.0\n",
      "Eryk 50.0\n",
      "Krzysiu 37.5\n",
      "Kuba 50.0\n",
      "Szymon 75.0\n",
      "Wojtek 41.7\n"
     ]
    },
    {
     "name": "stderr",
     "output_type": "stream",
     "text": [
      "C:\\Users\\szymo\\AppData\\Local\\Temp\\ipykernel_25948\\4239298943.py:5: FutureWarning: In a future version of pandas all arguments of DataFrame.any and Series.any will be keyword-only.\n",
      "  played = df.applymap(lambda x: name.lower() in str(x).lower()).any(1).sum()\n"
     ]
    }
   ],
   "source": [
    "for player in all_players:\n",
    "    winrate = win_rate(df, player)\n",
    "    print(player, winrate)"
   ]
  },
  {
   "cell_type": "code",
   "execution_count": 181,
   "id": "96c93905-282b-44e4-8616-24473903a6a1",
   "metadata": {},
   "outputs": [
    {
     "data": {
      "text/plain": [
       "Attack_1     object\n",
       "Defence_1    object\n",
       "Attack_2     object\n",
       "Defence_2    object\n",
       "G1            int64\n",
       "G2            int64\n",
       "Win           int64\n",
       "dtype: object"
      ]
     },
     "execution_count": 181,
     "metadata": {},
     "output_type": "execute_result"
    }
   ],
   "source": [
    "df.dtypes"
   ]
  },
  {
   "cell_type": "code",
   "execution_count": 213,
   "id": "d4a9c137-9c00-4396-9c0b-ecc929767bb1",
   "metadata": {},
   "outputs": [],
   "source": [
    "name = 'Szymon'\n",
    "wins_1 = len(df.loc[((df['Attack_1'] == name) | (df['Defence_1'] == name)) & df['Win'] == 1])\n",
    "wins_2 = len(df.loc[(df['Win'] == 2) & ((df['Attack_2'] == name) | (df['Defence_2'] == name))])\n",
    "\n",
    "wins_total = wins_1 + wins_2"
   ]
  },
  {
   "cell_type": "code",
   "execution_count": 241,
   "id": "cd66944f-2191-4d49-9151-c8be29ca4683",
   "metadata": {},
   "outputs": [],
   "source": [
    "goals_1 = df.loc[df['Attack_1'] == name]['G1'].sum()"
   ]
  },
  {
   "cell_type": "code",
   "execution_count": 242,
   "id": "b440e45f-9527-4a58-adc9-f28aba5b3c0d",
   "metadata": {},
   "outputs": [
    {
     "data": {
      "text/plain": [
       "40"
      ]
     },
     "execution_count": 242,
     "metadata": {},
     "output_type": "execute_result"
    }
   ],
   "source": [
    "goals_1"
   ]
  },
  {
   "cell_type": "code",
   "execution_count": 218,
   "id": "6038d57f-8abb-4845-ac80-68fa5208aa33",
   "metadata": {},
   "outputs": [
    {
     "data": {
      "text/plain": [
       "12"
      ]
     },
     "execution_count": 218,
     "metadata": {},
     "output_type": "execute_result"
    }
   ],
   "source": [
    "all_matches"
   ]
  },
  {
   "cell_type": "code",
   "execution_count": 219,
   "id": "98557788-7e46-4c81-8003-e18c3add54f8",
   "metadata": {},
   "outputs": [],
   "source": [
    "winrate = (wins_total/all_matches) * 100"
   ]
  },
  {
   "cell_type": "code",
   "execution_count": 220,
   "id": "53d1b9a2-8c23-48b0-ac5e-9071ebb1764e",
   "metadata": {},
   "outputs": [
    {
     "data": {
      "text/plain": [
       "75.0"
      ]
     },
     "execution_count": 220,
     "metadata": {},
     "output_type": "execute_result"
    }
   ],
   "source": [
    "winrate "
   ]
  },
  {
   "cell_type": "code",
   "execution_count": 209,
   "id": "b9bd8e66-24e2-467f-af33-6820d0509a39",
   "metadata": {},
   "outputs": [],
   "source": [
    "wins_2 = df.loc[((df['Attack_2'] == 'Wojtek') | (df['Defence_2'] == 'Wojtek')) & df['Win'] == 2]\n"
   ]
  },
  {
   "cell_type": "code",
   "execution_count": 210,
   "id": "9c6500f2-981e-49f4-86f5-6dfbe4059e5a",
   "metadata": {},
   "outputs": [
    {
     "data": {
      "text/html": [
       "<div>\n",
       "<style scoped>\n",
       "    .dataframe tbody tr th:only-of-type {\n",
       "        vertical-align: middle;\n",
       "    }\n",
       "\n",
       "    .dataframe tbody tr th {\n",
       "        vertical-align: top;\n",
       "    }\n",
       "\n",
       "    .dataframe thead th {\n",
       "        text-align: right;\n",
       "    }\n",
       "</style>\n",
       "<table border=\"1\" class=\"dataframe\">\n",
       "  <thead>\n",
       "    <tr style=\"text-align: right;\">\n",
       "      <th></th>\n",
       "      <th>Attack_1</th>\n",
       "      <th>Defence_1</th>\n",
       "      <th>Attack_2</th>\n",
       "      <th>Defence_2</th>\n",
       "      <th>G1</th>\n",
       "      <th>G2</th>\n",
       "      <th>Win</th>\n",
       "    </tr>\n",
       "  </thead>\n",
       "  <tbody>\n",
       "    <tr>\n",
       "      <th>6</th>\n",
       "      <td>Krzysiu</td>\n",
       "      <td>Wojtek</td>\n",
       "      <td>Szymon</td>\n",
       "      <td>Dawid</td>\n",
       "      <td>4</td>\n",
       "      <td>8</td>\n",
       "      <td>2</td>\n",
       "    </tr>\n",
       "    <tr>\n",
       "      <th>7</th>\n",
       "      <td>Wojtek</td>\n",
       "      <td>Krzysiu</td>\n",
       "      <td>Dawid</td>\n",
       "      <td>Szymon</td>\n",
       "      <td>2</td>\n",
       "      <td>8</td>\n",
       "      <td>2</td>\n",
       "    </tr>\n",
       "  </tbody>\n",
       "</table>\n",
       "</div>"
      ],
      "text/plain": [
       "  Attack_1 Defence_1 Attack_2 Defence_2  G1  G2  Win\n",
       "6  Krzysiu    Wojtek   Szymon     Dawid   4   8    2\n",
       "7   Wojtek   Krzysiu    Dawid    Szymon   2   8    2"
      ]
     },
     "execution_count": 210,
     "metadata": {},
     "output_type": "execute_result"
    }
   ],
   "source": [
    "df.loc[(df['Win'] == 2) & ((df['Attack_2'] == name) | (df['Defence_2'] == name))]\n",
    "# df.loc[((df['Attack_2'] == name) | (df['Defence_2'] == name))]"
   ]
  },
  {
   "cell_type": "code",
   "execution_count": null,
   "id": "4b9a021f-4700-4838-808a-b3ce73a90e32",
   "metadata": {},
   "outputs": [],
   "source": []
  }
 ],
 "metadata": {
  "kernelspec": {
   "display_name": "Python 3 (ipykernel)",
   "language": "python",
   "name": "python3"
  },
  "language_info": {
   "codemirror_mode": {
    "name": "ipython",
    "version": 3
   },
   "file_extension": ".py",
   "mimetype": "text/x-python",
   "name": "python",
   "nbconvert_exporter": "python",
   "pygments_lexer": "ipython3",
   "version": "3.11.2"
  }
 },
 "nbformat": 4,
 "nbformat_minor": 5
}
