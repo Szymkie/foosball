{
 "cells": [
  {
   "cell_type": "code",
   "execution_count": 3,
   "id": "028f587b-91e9-4f67-839c-a75b57331d10",
   "metadata": {
    "tags": []
   },
   "outputs": [],
   "source": [
    "import numpy as np\n",
    "import pandas as pd\n",
    "import plotly.express as px\n",
    "import matplotlib.pyplot as plt\n",
    "import seaborn as sns\n",
    "\n",
    "pd.options.mode.chained_assignment = None\n",
    "\n",
    "import warnings\n",
    "\n",
    "from stats import win_rate, count, played, goals_scored_total, goals_scored_avg, goals_lost_total, goals_lost_avg\n",
    "\n",
    "warnings.simplefilter(action='ignore', category=FutureWarning)\n",
    "warnings.simplefilter(action='ignore', category=UserWarning)"
   ]
  },
  {
   "cell_type": "code",
   "execution_count": 4,
   "id": "1233b256-3175-4302-9f1f-6dcd676c41da",
   "metadata": {
    "tags": []
   },
   "outputs": [],
   "source": [
    "from stats import win_rate, count, played, goals_scored_total, goals_scored_avg, goals_lost_total, goals_lost_avg"
   ]
  },
  {
   "cell_type": "code",
   "execution_count": 6,
   "id": "375b68c5-955a-4e71-b13b-7e997907144f",
   "metadata": {
    "tags": []
   },
   "outputs": [
    {
     "data": {
      "text/plain": [
       "<function stats.goals_scored_total(df, name, position='all')>"
      ]
     },
     "execution_count": 6,
     "metadata": {},
     "output_type": "execute_result"
    }
   ],
   "source": [
    "goals_scored_total"
   ]
  },
  {
   "cell_type": "code",
   "execution_count": 7,
   "id": "977b1480-bf26-4418-a382-0d29ade99b26",
   "metadata": {
    "tags": []
   },
   "outputs": [
    {
     "name": "stdout",
     "output_type": "stream",
     "text": [
      "D:\\miniconda\\envs\\foos\\python.exe\n",
      "3.11.3 | packaged by Anaconda, Inc. | (main, Apr 19 2023, 23:46:34) [MSC v.1916 64 bit (AMD64)]\n",
      "sys.version_info(major=3, minor=11, micro=3, releaselevel='final', serial=0)\n"
     ]
    }
   ],
   "source": [
    "import sys\n",
    "print(sys.executable)\n",
    "print(sys.version)\n",
    "print(sys.version_info)"
   ]
  },
  {
   "cell_type": "code",
   "execution_count": 5,
   "id": "b29cd4f6-8c3f-418d-ad7d-76ee3f8c1d68",
   "metadata": {
    "tags": []
   },
   "outputs": [],
   "source": [
    "# df = pd.read_csv('data/seuk_scores.csv', sep = ';', parse_dates=['Date'])\n",
    "# df = df.drop('Date', axis = 1)\n",
    "df_1 = pd.read_excel('data/seuk_04.xlsx')\n",
    "df = df_1.drop('Date', axis = 1)"
   ]
  },
  {
   "cell_type": "code",
   "execution_count": 18,
   "id": "bef65ba4-42db-4fa5-93ef-bd8199b21c5a",
   "metadata": {
    "tags": []
   },
   "outputs": [
    {
     "data": {
      "text/plain": [
       "Date         datetime64[ns]\n",
       "Attack_1             object\n",
       "Defence_1            object\n",
       "Attack_2             object\n",
       "Defence_2            object\n",
       "G1                    int64\n",
       "G2                    int64\n",
       "Win                   int64\n",
       "dtype: object"
      ]
     },
     "execution_count": 18,
     "metadata": {},
     "output_type": "execute_result"
    }
   ],
   "source": [
    "df_1.dtypes"
   ]
  },
  {
   "cell_type": "code",
   "execution_count": 19,
   "id": "8b1852a7-a8d8-4839-8dbc-e4db7af454ef",
   "metadata": {
    "tags": []
   },
   "outputs": [],
   "source": [
    "grouped = df_1.groupby(['Date']).count()['Win']"
   ]
  },
  {
   "cell_type": "code",
   "execution_count": 20,
   "id": "e3ea79d4-1465-47b4-af10-870dc962c174",
   "metadata": {
    "tags": []
   },
   "outputs": [],
   "source": [
    "# dates = pd.concat([grouped.index, grouped.values], axis = 1)"
   ]
  },
  {
   "cell_type": "code",
   "execution_count": 21,
   "id": "8c7dd6ee-27ae-4a35-8775-bdd8ee31b8f9",
   "metadata": {
    "tags": []
   },
   "outputs": [
    {
     "data": {
      "text/plain": [
       "DatetimeIndex(['2023-03-28', '2023-03-30', '2023-04-04', '2023-04-05',\n",
       "               '2023-04-06', '2023-04-13', '2023-04-18', '2023-04-20',\n",
       "               '2023-04-25', '2023-04-27', '2023-05-09', '2023-05-11',\n",
       "               '2023-05-16', '2023-05-18', '2023-05-23', '2023-05-25',\n",
       "               '2023-05-30', '2023-06-01', '2023-06-06'],\n",
       "              dtype='datetime64[ns]', name='Date', freq=None)"
      ]
     },
     "execution_count": 21,
     "metadata": {},
     "output_type": "execute_result"
    }
   ],
   "source": [
    "grouped.index"
   ]
  },
  {
   "cell_type": "code",
   "execution_count": 22,
   "id": "71d0df23-cd1a-4ae1-bc25-b5b3e6c09028",
   "metadata": {
    "tags": []
   },
   "outputs": [
    {
     "data": {
      "application/vnd.plotly.v1+json": {
       "config": {
        "plotlyServerURL": "https://plot.ly"
       },
       "data": [
        {
         "hovertemplate": "Date=%{x}<br>Matches played=%{y}<extra></extra>",
         "legendgroup": "",
         "line": {
          "color": "#636efa",
          "dash": "solid"
         },
         "marker": {
          "symbol": "circle"
         },
         "mode": "markers+lines",
         "name": "",
         "orientation": "v",
         "showlegend": false,
         "type": "scatter",
         "x": [
          "2023-03-28T00:00:00",
          "2023-03-30T00:00:00",
          "2023-04-04T00:00:00",
          "2023-04-05T00:00:00",
          "2023-04-06T00:00:00",
          "2023-04-13T00:00:00",
          "2023-04-18T00:00:00",
          "2023-04-20T00:00:00",
          "2023-04-25T00:00:00",
          "2023-04-27T00:00:00",
          "2023-05-09T00:00:00",
          "2023-05-11T00:00:00",
          "2023-05-16T00:00:00",
          "2023-05-18T00:00:00",
          "2023-05-23T00:00:00",
          "2023-05-25T00:00:00",
          "2023-05-30T00:00:00",
          "2023-06-01T00:00:00",
          "2023-06-06T00:00:00"
         ],
         "xaxis": "x",
         "y": [
          6,
          6,
          12,
          8,
          15,
          11,
          16,
          18,
          12,
          15,
          14,
          5,
          9,
          13,
          9,
          9,
          7,
          8,
          11
         ],
         "yaxis": "y"
        }
       ],
       "layout": {
        "height": 450,
        "legend": {
         "tracegroupgap": 0
        },
        "template": {
         "data": {
          "bar": [
           {
            "error_x": {
             "color": "#2a3f5f"
            },
            "error_y": {
             "color": "#2a3f5f"
            },
            "marker": {
             "line": {
              "color": "#E5ECF6",
              "width": 0.5
             },
             "pattern": {
              "fillmode": "overlay",
              "size": 10,
              "solidity": 0.2
             }
            },
            "type": "bar"
           }
          ],
          "barpolar": [
           {
            "marker": {
             "line": {
              "color": "#E5ECF6",
              "width": 0.5
             },
             "pattern": {
              "fillmode": "overlay",
              "size": 10,
              "solidity": 0.2
             }
            },
            "type": "barpolar"
           }
          ],
          "carpet": [
           {
            "aaxis": {
             "endlinecolor": "#2a3f5f",
             "gridcolor": "white",
             "linecolor": "white",
             "minorgridcolor": "white",
             "startlinecolor": "#2a3f5f"
            },
            "baxis": {
             "endlinecolor": "#2a3f5f",
             "gridcolor": "white",
             "linecolor": "white",
             "minorgridcolor": "white",
             "startlinecolor": "#2a3f5f"
            },
            "type": "carpet"
           }
          ],
          "choropleth": [
           {
            "colorbar": {
             "outlinewidth": 0,
             "ticks": ""
            },
            "type": "choropleth"
           }
          ],
          "contour": [
           {
            "colorbar": {
             "outlinewidth": 0,
             "ticks": ""
            },
            "colorscale": [
             [
              0,
              "#0d0887"
             ],
             [
              0.1111111111111111,
              "#46039f"
             ],
             [
              0.2222222222222222,
              "#7201a8"
             ],
             [
              0.3333333333333333,
              "#9c179e"
             ],
             [
              0.4444444444444444,
              "#bd3786"
             ],
             [
              0.5555555555555556,
              "#d8576b"
             ],
             [
              0.6666666666666666,
              "#ed7953"
             ],
             [
              0.7777777777777778,
              "#fb9f3a"
             ],
             [
              0.8888888888888888,
              "#fdca26"
             ],
             [
              1,
              "#f0f921"
             ]
            ],
            "type": "contour"
           }
          ],
          "contourcarpet": [
           {
            "colorbar": {
             "outlinewidth": 0,
             "ticks": ""
            },
            "type": "contourcarpet"
           }
          ],
          "heatmap": [
           {
            "colorbar": {
             "outlinewidth": 0,
             "ticks": ""
            },
            "colorscale": [
             [
              0,
              "#0d0887"
             ],
             [
              0.1111111111111111,
              "#46039f"
             ],
             [
              0.2222222222222222,
              "#7201a8"
             ],
             [
              0.3333333333333333,
              "#9c179e"
             ],
             [
              0.4444444444444444,
              "#bd3786"
             ],
             [
              0.5555555555555556,
              "#d8576b"
             ],
             [
              0.6666666666666666,
              "#ed7953"
             ],
             [
              0.7777777777777778,
              "#fb9f3a"
             ],
             [
              0.8888888888888888,
              "#fdca26"
             ],
             [
              1,
              "#f0f921"
             ]
            ],
            "type": "heatmap"
           }
          ],
          "heatmapgl": [
           {
            "colorbar": {
             "outlinewidth": 0,
             "ticks": ""
            },
            "colorscale": [
             [
              0,
              "#0d0887"
             ],
             [
              0.1111111111111111,
              "#46039f"
             ],
             [
              0.2222222222222222,
              "#7201a8"
             ],
             [
              0.3333333333333333,
              "#9c179e"
             ],
             [
              0.4444444444444444,
              "#bd3786"
             ],
             [
              0.5555555555555556,
              "#d8576b"
             ],
             [
              0.6666666666666666,
              "#ed7953"
             ],
             [
              0.7777777777777778,
              "#fb9f3a"
             ],
             [
              0.8888888888888888,
              "#fdca26"
             ],
             [
              1,
              "#f0f921"
             ]
            ],
            "type": "heatmapgl"
           }
          ],
          "histogram": [
           {
            "marker": {
             "pattern": {
              "fillmode": "overlay",
              "size": 10,
              "solidity": 0.2
             }
            },
            "type": "histogram"
           }
          ],
          "histogram2d": [
           {
            "colorbar": {
             "outlinewidth": 0,
             "ticks": ""
            },
            "colorscale": [
             [
              0,
              "#0d0887"
             ],
             [
              0.1111111111111111,
              "#46039f"
             ],
             [
              0.2222222222222222,
              "#7201a8"
             ],
             [
              0.3333333333333333,
              "#9c179e"
             ],
             [
              0.4444444444444444,
              "#bd3786"
             ],
             [
              0.5555555555555556,
              "#d8576b"
             ],
             [
              0.6666666666666666,
              "#ed7953"
             ],
             [
              0.7777777777777778,
              "#fb9f3a"
             ],
             [
              0.8888888888888888,
              "#fdca26"
             ],
             [
              1,
              "#f0f921"
             ]
            ],
            "type": "histogram2d"
           }
          ],
          "histogram2dcontour": [
           {
            "colorbar": {
             "outlinewidth": 0,
             "ticks": ""
            },
            "colorscale": [
             [
              0,
              "#0d0887"
             ],
             [
              0.1111111111111111,
              "#46039f"
             ],
             [
              0.2222222222222222,
              "#7201a8"
             ],
             [
              0.3333333333333333,
              "#9c179e"
             ],
             [
              0.4444444444444444,
              "#bd3786"
             ],
             [
              0.5555555555555556,
              "#d8576b"
             ],
             [
              0.6666666666666666,
              "#ed7953"
             ],
             [
              0.7777777777777778,
              "#fb9f3a"
             ],
             [
              0.8888888888888888,
              "#fdca26"
             ],
             [
              1,
              "#f0f921"
             ]
            ],
            "type": "histogram2dcontour"
           }
          ],
          "mesh3d": [
           {
            "colorbar": {
             "outlinewidth": 0,
             "ticks": ""
            },
            "type": "mesh3d"
           }
          ],
          "parcoords": [
           {
            "line": {
             "colorbar": {
              "outlinewidth": 0,
              "ticks": ""
             }
            },
            "type": "parcoords"
           }
          ],
          "pie": [
           {
            "automargin": true,
            "type": "pie"
           }
          ],
          "scatter": [
           {
            "fillpattern": {
             "fillmode": "overlay",
             "size": 10,
             "solidity": 0.2
            },
            "type": "scatter"
           }
          ],
          "scatter3d": [
           {
            "line": {
             "colorbar": {
              "outlinewidth": 0,
              "ticks": ""
             }
            },
            "marker": {
             "colorbar": {
              "outlinewidth": 0,
              "ticks": ""
             }
            },
            "type": "scatter3d"
           }
          ],
          "scattercarpet": [
           {
            "marker": {
             "colorbar": {
              "outlinewidth": 0,
              "ticks": ""
             }
            },
            "type": "scattercarpet"
           }
          ],
          "scattergeo": [
           {
            "marker": {
             "colorbar": {
              "outlinewidth": 0,
              "ticks": ""
             }
            },
            "type": "scattergeo"
           }
          ],
          "scattergl": [
           {
            "marker": {
             "colorbar": {
              "outlinewidth": 0,
              "ticks": ""
             }
            },
            "type": "scattergl"
           }
          ],
          "scattermapbox": [
           {
            "marker": {
             "colorbar": {
              "outlinewidth": 0,
              "ticks": ""
             }
            },
            "type": "scattermapbox"
           }
          ],
          "scatterpolar": [
           {
            "marker": {
             "colorbar": {
              "outlinewidth": 0,
              "ticks": ""
             }
            },
            "type": "scatterpolar"
           }
          ],
          "scatterpolargl": [
           {
            "marker": {
             "colorbar": {
              "outlinewidth": 0,
              "ticks": ""
             }
            },
            "type": "scatterpolargl"
           }
          ],
          "scatterternary": [
           {
            "marker": {
             "colorbar": {
              "outlinewidth": 0,
              "ticks": ""
             }
            },
            "type": "scatterternary"
           }
          ],
          "surface": [
           {
            "colorbar": {
             "outlinewidth": 0,
             "ticks": ""
            },
            "colorscale": [
             [
              0,
              "#0d0887"
             ],
             [
              0.1111111111111111,
              "#46039f"
             ],
             [
              0.2222222222222222,
              "#7201a8"
             ],
             [
              0.3333333333333333,
              "#9c179e"
             ],
             [
              0.4444444444444444,
              "#bd3786"
             ],
             [
              0.5555555555555556,
              "#d8576b"
             ],
             [
              0.6666666666666666,
              "#ed7953"
             ],
             [
              0.7777777777777778,
              "#fb9f3a"
             ],
             [
              0.8888888888888888,
              "#fdca26"
             ],
             [
              1,
              "#f0f921"
             ]
            ],
            "type": "surface"
           }
          ],
          "table": [
           {
            "cells": {
             "fill": {
              "color": "#EBF0F8"
             },
             "line": {
              "color": "white"
             }
            },
            "header": {
             "fill": {
              "color": "#C8D4E3"
             },
             "line": {
              "color": "white"
             }
            },
            "type": "table"
           }
          ]
         },
         "layout": {
          "annotationdefaults": {
           "arrowcolor": "#2a3f5f",
           "arrowhead": 0,
           "arrowwidth": 1
          },
          "autotypenumbers": "strict",
          "coloraxis": {
           "colorbar": {
            "outlinewidth": 0,
            "ticks": ""
           }
          },
          "colorscale": {
           "diverging": [
            [
             0,
             "#8e0152"
            ],
            [
             0.1,
             "#c51b7d"
            ],
            [
             0.2,
             "#de77ae"
            ],
            [
             0.3,
             "#f1b6da"
            ],
            [
             0.4,
             "#fde0ef"
            ],
            [
             0.5,
             "#f7f7f7"
            ],
            [
             0.6,
             "#e6f5d0"
            ],
            [
             0.7,
             "#b8e186"
            ],
            [
             0.8,
             "#7fbc41"
            ],
            [
             0.9,
             "#4d9221"
            ],
            [
             1,
             "#276419"
            ]
           ],
           "sequential": [
            [
             0,
             "#0d0887"
            ],
            [
             0.1111111111111111,
             "#46039f"
            ],
            [
             0.2222222222222222,
             "#7201a8"
            ],
            [
             0.3333333333333333,
             "#9c179e"
            ],
            [
             0.4444444444444444,
             "#bd3786"
            ],
            [
             0.5555555555555556,
             "#d8576b"
            ],
            [
             0.6666666666666666,
             "#ed7953"
            ],
            [
             0.7777777777777778,
             "#fb9f3a"
            ],
            [
             0.8888888888888888,
             "#fdca26"
            ],
            [
             1,
             "#f0f921"
            ]
           ],
           "sequentialminus": [
            [
             0,
             "#0d0887"
            ],
            [
             0.1111111111111111,
             "#46039f"
            ],
            [
             0.2222222222222222,
             "#7201a8"
            ],
            [
             0.3333333333333333,
             "#9c179e"
            ],
            [
             0.4444444444444444,
             "#bd3786"
            ],
            [
             0.5555555555555556,
             "#d8576b"
            ],
            [
             0.6666666666666666,
             "#ed7953"
            ],
            [
             0.7777777777777778,
             "#fb9f3a"
            ],
            [
             0.8888888888888888,
             "#fdca26"
            ],
            [
             1,
             "#f0f921"
            ]
           ]
          },
          "colorway": [
           "#636efa",
           "#EF553B",
           "#00cc96",
           "#ab63fa",
           "#FFA15A",
           "#19d3f3",
           "#FF6692",
           "#B6E880",
           "#FF97FF",
           "#FECB52"
          ],
          "font": {
           "color": "#2a3f5f"
          },
          "geo": {
           "bgcolor": "white",
           "lakecolor": "white",
           "landcolor": "#E5ECF6",
           "showlakes": true,
           "showland": true,
           "subunitcolor": "white"
          },
          "hoverlabel": {
           "align": "left"
          },
          "hovermode": "closest",
          "mapbox": {
           "style": "light"
          },
          "paper_bgcolor": "white",
          "plot_bgcolor": "#E5ECF6",
          "polar": {
           "angularaxis": {
            "gridcolor": "white",
            "linecolor": "white",
            "ticks": ""
           },
           "bgcolor": "#E5ECF6",
           "radialaxis": {
            "gridcolor": "white",
            "linecolor": "white",
            "ticks": ""
           }
          },
          "scene": {
           "xaxis": {
            "backgroundcolor": "#E5ECF6",
            "gridcolor": "white",
            "gridwidth": 2,
            "linecolor": "white",
            "showbackground": true,
            "ticks": "",
            "zerolinecolor": "white"
           },
           "yaxis": {
            "backgroundcolor": "#E5ECF6",
            "gridcolor": "white",
            "gridwidth": 2,
            "linecolor": "white",
            "showbackground": true,
            "ticks": "",
            "zerolinecolor": "white"
           },
           "zaxis": {
            "backgroundcolor": "#E5ECF6",
            "gridcolor": "white",
            "gridwidth": 2,
            "linecolor": "white",
            "showbackground": true,
            "ticks": "",
            "zerolinecolor": "white"
           }
          },
          "shapedefaults": {
           "line": {
            "color": "#2a3f5f"
           }
          },
          "ternary": {
           "aaxis": {
            "gridcolor": "white",
            "linecolor": "white",
            "ticks": ""
           },
           "baxis": {
            "gridcolor": "white",
            "linecolor": "white",
            "ticks": ""
           },
           "bgcolor": "#E5ECF6",
           "caxis": {
            "gridcolor": "white",
            "linecolor": "white",
            "ticks": ""
           }
          },
          "title": {
           "x": 0.05
          },
          "xaxis": {
           "automargin": true,
           "gridcolor": "white",
           "linecolor": "white",
           "ticks": "",
           "title": {
            "standoff": 15
           },
           "zerolinecolor": "white",
           "zerolinewidth": 2
          },
          "yaxis": {
           "automargin": true,
           "gridcolor": "white",
           "linecolor": "white",
           "ticks": "",
           "title": {
            "standoff": 15
           },
           "zerolinecolor": "white",
           "zerolinewidth": 2
          }
         }
        },
        "title": {
         "text": "Matches played by dates"
        },
        "width": 800,
        "xaxis": {
         "anchor": "y",
         "autorange": true,
         "domain": [
          0,
          1
         ],
         "range": [
          "2023-03-23 14:21:12.8232",
          "2023-06-10 09:38:47.1768"
         ],
         "title": {
          "text": "Date"
         },
         "type": "date"
        },
        "yaxis": {
         "anchor": "x",
         "autorange": true,
         "domain": [
          0,
          1
         ],
         "range": [
          4.047770700636943,
          18.952229299363058
         ],
         "title": {
          "text": "Matches played"
         },
         "type": "linear"
        }
       }
      },
      "image/png": "[encoded data removed]",
      "text/html": [
       "<div>                            <div id=\"88fe3af7-079b-4376-8ead-f97f5669445f\" class=\"plotly-graph-div\" style=\"height:450px; width:800px;\"></div>            <script type=\"text/javascript\">                require([\"plotly\"], function(Plotly) {                    window.PLOTLYENV=window.PLOTLYENV || {};                                    if (document.getElementById(\"88fe3af7-079b-4376-8ead-f97f5669445f\")) {                    Plotly.newPlot(                        \"88fe3af7-079b-4376-8ead-f97f5669445f\",                        [{\"hovertemplate\":\"Date=%{x}<br>Matches played=%{y}<extra></extra>\",\"legendgroup\":\"\",\"line\":{\"color\":\"#636efa\",\"dash\":\"solid\"},\"marker\":{\"symbol\":\"circle\"},\"mode\":\"markers+lines\",\"name\":\"\",\"orientation\":\"v\",\"showlegend\":false,\"x\":[\"2023-03-28T00:00:00\",\"2023-03-30T00:00:00\",\"2023-04-04T00:00:00\",\"2023-04-05T00:00:00\",\"2023-04-06T00:00:00\",\"2023-04-13T00:00:00\",\"2023-04-18T00:00:00\",\"2023-04-20T00:00:00\",\"2023-04-25T00:00:00\",\"2023-04-27T00:00:00\",\"2023-05-09T00:00:00\",\"2023-05-11T00:00:00\",\"2023-05-16T00:00:00\",\"2023-05-18T00:00:00\",\"2023-05-23T00:00:00\",\"2023-05-25T00:00:00\",\"2023-05-30T00:00:00\",\"2023-06-01T00:00:00\",\"2023-06-06T00:00:00\"],\"xaxis\":\"x\",\"y\":[6,6,12,8,15,11,16,18,12,15,14,5,9,13,9,9,7,8,11],\"yaxis\":\"y\",\"type\":\"scatter\"}],                        {\"template\":{\"data\":{\"histogram2dcontour\":[{\"type\":\"histogram2dcontour\",\"colorbar\":{\"outlinewidth\":0,\"ticks\":\"\"},\"colorscale\":[[0.0,\"#0d0887\"],[0.1111111111111111,\"#46039f\"],[0.2222222222222222,\"#7201a8\"],[0.3333333333333333,\"#9c179e\"],[0.4444444444444444,\"#bd3786\"],[0.5555555555555556,\"#d8576b\"],[0.6666666666666666,\"#ed7953\"],[0.7777777777777778,\"#fb9f3a\"],[0.8888888888888888,\"#fdca26\"],[1.0,\"#f0f921\"]]}],\"choropleth\":[{\"type\":\"choropleth\",\"colorbar\":{\"outlinewidth\":0,\"ticks\":\"\"}}],\"histogram2d\":[{\"type\":\"histogram2d\",\"colorbar\":{\"outlinewidth\":0,\"ticks\":\"\"},\"colorscale\":[[0.0,\"#0d0887\"],[0.1111111111111111,\"#46039f\"],[0.2222222222222222,\"#7201a8\"],[0.3333333333333333,\"#9c179e\"],[0.4444444444444444,\"#bd3786\"],[0.5555555555555556,\"#d8576b\"],[0.6666666666666666,\"#ed7953\"],[0.7777777777777778,\"#fb9f3a\"],[0.8888888888888888,\"#fdca26\"],[1.0,\"#f0f921\"]]}],\"heatmap\":[{\"type\":\"heatmap\",\"colorbar\":{\"outlinewidth\":0,\"ticks\":\"\"},\"colorscale\":[[0.0,\"#0d0887\"],[0.1111111111111111,\"#46039f\"],[0.2222222222222222,\"#7201a8\"],[0.3333333333333333,\"#9c179e\"],[0.4444444444444444,\"#bd3786\"],[0.5555555555555556,\"#d8576b\"],[0.6666666666666666,\"#ed7953\"],[0.7777777777777778,\"#fb9f3a\"],[0.8888888888888888,\"#fdca26\"],[1.0,\"#f0f921\"]]}],\"heatmapgl\":[{\"type\":\"heatmapgl\",\"colorbar\":{\"outlinewidth\":0,\"ticks\":\"\"},\"colorscale\":[[0.0,\"#0d0887\"],[0.1111111111111111,\"#46039f\"],[0.2222222222222222,\"#7201a8\"],[0.3333333333333333,\"#9c179e\"],[0.4444444444444444,\"#bd3786\"],[0.5555555555555556,\"#d8576b\"],[0.6666666666666666,\"#ed7953\"],[0.7777777777777778,\"#fb9f3a\"],[0.8888888888888888,\"#fdca26\"],[1.0,\"#f0f921\"]]}],\"contourcarpet\":[{\"type\":\"contourcarpet\",\"colorbar\":{\"outlinewidth\":0,\"ticks\":\"\"}}],\"contour\":[{\"type\":\"contour\",\"colorbar\":{\"outlinewidth\":0,\"ticks\":\"\"},\"colorscale\":[[0.0,\"#0d0887\"],[0.1111111111111111,\"#46039f\"],[0.2222222222222222,\"#7201a8\"],[0.3333333333333333,\"#9c179e\"],[0.4444444444444444,\"#bd3786\"],[0.5555555555555556,\"#d8576b\"],[0.6666666666666666,\"#ed7953\"],[0.7777777777777778,\"#fb9f3a\"],[0.8888888888888888,\"#fdca26\"],[1.0,\"#f0f921\"]]}],\"surface\":[{\"type\":\"surface\",\"colorbar\":{\"outlinewidth\":0,\"ticks\":\"\"},\"colorscale\":[[0.0,\"#0d0887\"],[0.1111111111111111,\"#46039f\"],[0.2222222222222222,\"#7201a8\"],[0.3333333333333333,\"#9c179e\"],[0.4444444444444444,\"#bd3786\"],[0.5555555555555556,\"#d8576b\"],[0.6666666666666666,\"#ed7953\"],[0.7777777777777778,\"#fb9f3a\"],[0.8888888888888888,\"#fdca26\"],[1.0,\"#f0f921\"]]}],\"mesh3d\":[{\"type\":\"mesh3d\",\"colorbar\":{\"outlinewidth\":0,\"ticks\":\"\"}}],\"scatter\":[{\"fillpattern\":{\"fillmode\":\"overlay\",\"size\":10,\"solidity\":0.2},\"type\":\"scatter\"}],\"parcoords\":[{\"type\":\"parcoords\",\"line\":{\"colorbar\":{\"outlinewidth\":0,\"ticks\":\"\"}}}],\"scatterpolargl\":[{\"type\":\"scatterpolargl\",\"marker\":{\"colorbar\":{\"outlinewidth\":0,\"ticks\":\"\"}}}],\"bar\":[{\"error_x\":{\"color\":\"#2a3f5f\"},\"error_y\":{\"color\":\"#2a3f5f\"},\"marker\":{\"line\":{\"color\":\"#E5ECF6\",\"width\":0.5},\"pattern\":{\"fillmode\":\"overlay\",\"size\":10,\"solidity\":0.2}},\"type\":\"bar\"}],\"scattergeo\":[{\"type\":\"scattergeo\",\"marker\":{\"colorbar\":{\"outlinewidth\":0,\"ticks\":\"\"}}}],\"scatterpolar\":[{\"type\":\"scatterpolar\",\"marker\":{\"colorbar\":{\"outlinewidth\":0,\"ticks\":\"\"}}}],\"histogram\":[{\"marker\":{\"pattern\":{\"fillmode\":\"overlay\",\"size\":10,\"solidity\":0.2}},\"type\":\"histogram\"}],\"scattergl\":[{\"type\":\"scattergl\",\"marker\":{\"colorbar\":{\"outlinewidth\":0,\"ticks\":\"\"}}}],\"scatter3d\":[{\"type\":\"scatter3d\",\"line\":{\"colorbar\":{\"outlinewidth\":0,\"ticks\":\"\"}},\"marker\":{\"colorbar\":{\"outlinewidth\":0,\"ticks\":\"\"}}}],\"scattermapbox\":[{\"type\":\"scattermapbox\",\"marker\":{\"colorbar\":{\"outlinewidth\":0,\"ticks\":\"\"}}}],\"scatterternary\":[{\"type\":\"scatterternary\",\"marker\":{\"colorbar\":{\"outlinewidth\":0,\"ticks\":\"\"}}}],\"scattercarpet\":[{\"type\":\"scattercarpet\",\"marker\":{\"colorbar\":{\"outlinewidth\":0,\"ticks\":\"\"}}}],\"carpet\":[{\"aaxis\":{\"endlinecolor\":\"#2a3f5f\",\"gridcolor\":\"white\",\"linecolor\":\"white\",\"minorgridcolor\":\"white\",\"startlinecolor\":\"#2a3f5f\"},\"baxis\":{\"endlinecolor\":\"#2a3f5f\",\"gridcolor\":\"white\",\"linecolor\":\"white\",\"minorgridcolor\":\"white\",\"startlinecolor\":\"#2a3f5f\"},\"type\":\"carpet\"}],\"table\":[{\"cells\":{\"fill\":{\"color\":\"#EBF0F8\"},\"line\":{\"color\":\"white\"}},\"header\":{\"fill\":{\"color\":\"#C8D4E3\"},\"line\":{\"color\":\"white\"}},\"type\":\"table\"}],\"barpolar\":[{\"marker\":{\"line\":{\"color\":\"#E5ECF6\",\"width\":0.5},\"pattern\":{\"fillmode\":\"overlay\",\"size\":10,\"solidity\":0.2}},\"type\":\"barpolar\"}],\"pie\":[{\"automargin\":true,\"type\":\"pie\"}]},\"layout\":{\"autotypenumbers\":\"strict\",\"colorway\":[\"#636efa\",\"#EF553B\",\"#00cc96\",\"#ab63fa\",\"#FFA15A\",\"#19d3f3\",\"#FF6692\",\"#B6E880\",\"#FF97FF\",\"#FECB52\"],\"font\":{\"color\":\"#2a3f5f\"},\"hovermode\":\"closest\",\"hoverlabel\":{\"align\":\"left\"},\"paper_bgcolor\":\"white\",\"plot_bgcolor\":\"#E5ECF6\",\"polar\":{\"bgcolor\":\"#E5ECF6\",\"angularaxis\":{\"gridcolor\":\"white\",\"linecolor\":\"white\",\"ticks\":\"\"},\"radialaxis\":{\"gridcolor\":\"white\",\"linecolor\":\"white\",\"ticks\":\"\"}},\"ternary\":{\"bgcolor\":\"#E5ECF6\",\"aaxis\":{\"gridcolor\":\"white\",\"linecolor\":\"white\",\"ticks\":\"\"},\"baxis\":{\"gridcolor\":\"white\",\"linecolor\":\"white\",\"ticks\":\"\"},\"caxis\":{\"gridcolor\":\"white\",\"linecolor\":\"white\",\"ticks\":\"\"}},\"coloraxis\":{\"colorbar\":{\"outlinewidth\":0,\"ticks\":\"\"}},\"colorscale\":{\"sequential\":[[0.0,\"#0d0887\"],[0.1111111111111111,\"#46039f\"],[0.2222222222222222,\"#7201a8\"],[0.3333333333333333,\"#9c179e\"],[0.4444444444444444,\"#bd3786\"],[0.5555555555555556,\"#d8576b\"],[0.6666666666666666,\"#ed7953\"],[0.7777777777777778,\"#fb9f3a\"],[0.8888888888888888,\"#fdca26\"],[1.0,\"#f0f921\"]],\"sequentialminus\":[[0.0,\"#0d0887\"],[0.1111111111111111,\"#46039f\"],[0.2222222222222222,\"#7201a8\"],[0.3333333333333333,\"#9c179e\"],[0.4444444444444444,\"#bd3786\"],[0.5555555555555556,\"#d8576b\"],[0.6666666666666666,\"#ed7953\"],[0.7777777777777778,\"#fb9f3a\"],[0.8888888888888888,\"#fdca26\"],[1.0,\"#f0f921\"]],\"diverging\":[[0,\"#8e0152\"],[0.1,\"#c51b7d\"],[0.2,\"#de77ae\"],[0.3,\"#f1b6da\"],[0.4,\"#fde0ef\"],[0.5,\"#f7f7f7\"],[0.6,\"#e6f5d0\"],[0.7,\"#b8e186\"],[0.8,\"#7fbc41\"],[0.9,\"#4d9221\"],[1,\"#276419\"]]},\"xaxis\":{\"gridcolor\":\"white\",\"linecolor\":\"white\",\"ticks\":\"\",\"title\":{\"standoff\":15},\"zerolinecolor\":\"white\",\"automargin\":true,\"zerolinewidth\":2},\"yaxis\":{\"gridcolor\":\"white\",\"linecolor\":\"white\",\"ticks\":\"\",\"title\":{\"standoff\":15},\"zerolinecolor\":\"white\",\"automargin\":true,\"zerolinewidth\":2},\"scene\":{\"xaxis\":{\"backgroundcolor\":\"#E5ECF6\",\"gridcolor\":\"white\",\"linecolor\":\"white\",\"showbackground\":true,\"ticks\":\"\",\"zerolinecolor\":\"white\",\"gridwidth\":2},\"yaxis\":{\"backgroundcolor\":\"#E5ECF6\",\"gridcolor\":\"white\",\"linecolor\":\"white\",\"showbackground\":true,\"ticks\":\"\",\"zerolinecolor\":\"white\",\"gridwidth\":2},\"zaxis\":{\"backgroundcolor\":\"#E5ECF6\",\"gridcolor\":\"white\",\"linecolor\":\"white\",\"showbackground\":true,\"ticks\":\"\",\"zerolinecolor\":\"white\",\"gridwidth\":2}},\"shapedefaults\":{\"line\":{\"color\":\"#2a3f5f\"}},\"annotationdefaults\":{\"arrowcolor\":\"#2a3f5f\",\"arrowhead\":0,\"arrowwidth\":1},\"geo\":{\"bgcolor\":\"white\",\"landcolor\":\"#E5ECF6\",\"subunitcolor\":\"white\",\"showland\":true,\"showlakes\":true,\"lakecolor\":\"white\"},\"title\":{\"x\":0.05},\"mapbox\":{\"style\":\"light\"}}},\"xaxis\":{\"anchor\":\"y\",\"domain\":[0.0,1.0],\"title\":{\"text\":\"Date\"}},\"yaxis\":{\"anchor\":\"x\",\"domain\":[0.0,1.0],\"title\":{\"text\":\"Matches played\"}},\"legend\":{\"tracegroupgap\":0},\"title\":{\"text\":\"Matches played by dates\"},\"height\":450,\"width\":800},                        {\"responsive\": true}                    ).then(function(){\n",
       "                            \n",
       "var gd = document.getElementById('88fe3af7-079b-4376-8ead-f97f5669445f');\n",
       "var x = new MutationObserver(function (mutations, observer) {{\n",
       "        var display = window.getComputedStyle(gd).display;\n",
       "        if (!display || display === 'none') {{\n",
       "            console.log([gd, 'removed!']);\n",
       "            Plotly.purge(gd);\n",
       "            observer.disconnect();\n",
       "        }}\n",
       "}});\n",
       "\n",
       "// Listen for the removal of the full notebook cells\n",
       "var notebookContainer = gd.closest('#notebook-container');\n",
       "if (notebookContainer) {{\n",
       "    x.observe(notebookContainer, {childList: true});\n",
       "}}\n",
       "\n",
       "// Listen for the clearing of the current output cell\n",
       "var outputEl = gd.closest('.output');\n",
       "if (outputEl) {{\n",
       "    x.observe(outputEl, {childList: true});\n",
       "}}\n",
       "\n",
       "                        })                };                });            </script>        </div>"
      ]
     },
     "metadata": {},
     "output_type": "display_data"
    }
   ],
   "source": [
    "px.line(x = grouped.index, \n",
    "        y = grouped.values,\n",
    "        title='Matches played by dates', \n",
    "        labels={ \"x\": \"Date\",\n",
    "                 \"y\": \"Matches played\"}, \n",
    "        markers = True, \n",
    "        height=450,\n",
    "        width=800 )"
   ]
  },
  {
   "cell_type": "code",
   "execution_count": 52,
   "id": "2044dc51-738c-4cea-a726-1accffad03fc",
   "metadata": {
    "tags": []
   },
   "outputs": [],
   "source": [
    "players = list(np.unique(df[['Attack_1', 'Defence_1','Attack_2' ,'Defence_2' ]].values))"
   ]
  },
  {
   "cell_type": "code",
   "execution_count": 53,
   "id": "5c084e19-b3fb-495c-a9cb-c151c29ea4ef",
   "metadata": {
    "tags": []
   },
   "outputs": [
    {
     "data": {
      "text/plain": [
       "['Dawid', 'Eryk', 'Krzysiu', 'Kuba', 'Szymon', 'Wojtek']"
      ]
     },
     "execution_count": 53,
     "metadata": {},
     "output_type": "execute_result"
    }
   ],
   "source": [
    "players"
   ]
  },
  {
   "cell_type": "code",
   "execution_count": 23,
   "id": "bb701af6-065d-43da-add9-90359d4cf5d1",
   "metadata": {
    "tags": []
   },
   "outputs": [],
   "source": [
    "def count(lst):\n",
    "    return sum(bool(x) for x in lst)"
   ]
  },
  {
   "cell_type": "code",
   "execution_count": 33,
   "id": "bf5b404d-a461-4890-9832-a108711b0393",
   "metadata": {
    "tags": []
   },
   "outputs": [],
   "source": [
    "def played(df, name, position = 'all'):\n",
    "    \n",
    "    '''Calculating all matches played by played'''\n",
    "    \n",
    "    if position == 'all':       \n",
    "        played = len(df.loc[(df['Attack_1'] == name) | (df['Attack_2'] == name) | (df['Defence_1'] == name) | (df['Defence_2'] == name)])\n",
    "        \n",
    "    elif position == 'attack':\n",
    "        played = len(df.loc[(df['Attack_1'] == name) | (df['Attack_2'] == name)])\n",
    "    \n",
    "    elif position == 'defence':\n",
    "        played = len(df.loc[(df['Defence_1'] == name) | (df['Defence_2'] == name)])\n",
    "        \n",
    "    \n",
    "    return played"
   ]
  },
  {
   "cell_type": "code",
   "execution_count": 34,
   "id": "afeff0aa-7bd5-4f85-8183-1161c69bb25e",
   "metadata": {
    "tags": []
   },
   "outputs": [],
   "source": [
    "def win_rate(df, name, position = 'all'):\n",
    "    \n",
    "    ''' Calculating players win rate '''\n",
    "    \n",
    "    if position == 'all':\n",
    "        \n",
    "        wins_1 = len(df.loc[((df['Attack_1'] == name) | (df['Defence_1'] == name)) & df['Win'] == 1])\n",
    "        wins_2 = len(df.loc[(df['Win'] == 2) & ((df['Attack_2'] == name) | (df['Defence_2'] == name))])\n",
    "        wins_total = wins_1 + wins_2\n",
    "        all_matches = played(df, name, position = 'all')\n",
    "        winrate = round((wins_total/all_matches) * 100, 1)\n",
    "        \n",
    "    elif position == 'attack':\n",
    "        \n",
    "        wins_1 = len(df.loc[(df['Attack_1'] == name) & (df['Win'] == 1)])\n",
    "        wins_2 = len(df.loc[(df['Attack_2'] == name) & (df['Win'] == 2)])\n",
    "        wins_total = wins_1 + wins_2\n",
    "        all_matches_attack = played(df, name, position = 'attack')\n",
    "        winrate = round((wins_total/all_matches_attack) * 100, 1)\n",
    "    \n",
    "    elif position == 'defence':\n",
    "        wins_1 = len(df.loc[(df['Defence_1'] == name) & (df['Win'] == 1)])\n",
    "        wins_2 = len(df.loc[(df['Defence_2'] == name) & (df['Win'] == 2)])\n",
    "        wins_total = wins_1 + wins_2\n",
    "        all_matches_defence = played(df, name, position = 'defence')\n",
    "        winrate = round((wins_total/all_matches_defence) * 100, 1)\n",
    "    \n",
    "    return winrate"
   ]
  },
  {
   "cell_type": "code",
   "execution_count": 35,
   "id": "e13eac83-9f5e-428c-ae93-78c77558844b",
   "metadata": {
    "tags": []
   },
   "outputs": [],
   "source": [
    "def goals_scored_total(df, name, position = 'all'):\n",
    "    \n",
    "    ''' Calculating total goals scored by player '''\n",
    "    if position == 'all':\n",
    "\n",
    "        goals_1 = df.loc[(df['Attack_1'] == name) | (df['Defence_1'] == name)]['G1'].sum()\n",
    "        goals_2 = df.loc[(df['Attack_2'] == name) | (df['Defence_2'] == name)]['G2'].sum()\n",
    "        goals_total = goals_1 + goals_2\n",
    "    \n",
    "    elif position == 'attack':\n",
    "        \n",
    "        goals_1 = df.loc[df['Attack_1'] == name]['G1'].sum()\n",
    "        goals_2 = df.loc[df['Attack_2'] == name]['G2'].sum()\n",
    "        goals_total = goals_1 + goals_2\n",
    "        \n",
    "    elif position == 'defence':\n",
    "        \n",
    "        goals_1 = df.loc[df['Defence_1'] == name]['G1'].sum()\n",
    "        goals_2 = df.loc[df['Defence_2'] == name]['G2'].sum()\n",
    "        goals_total = goals_1 + goals_2\n",
    "              \n",
    "        \n",
    "    return goals_total\n"
   ]
  },
  {
   "cell_type": "code",
   "execution_count": 36,
   "id": "0a052bfd-9041-4431-bb6a-eff0b720c598",
   "metadata": {
    "tags": []
   },
   "outputs": [],
   "source": [
    "def goals_lost_total(df, name, position = 'all'):\n",
    "    \n",
    "    ''' Calculating total goals lost by player '''\n",
    "    if position == 'all':\n",
    "\n",
    "        goals_1 = df.loc[(df['Attack_1'] == name) | (df['Defence_1'] == name)]['G2'].sum()\n",
    "        goals_2 = df.loc[(df['Attack_2'] == name) | (df['Defence_2'] == name)]['G1'].sum()\n",
    "        goals_total = goals_1 + goals_2\n",
    "    \n",
    "    elif position == 'attack':\n",
    "        \n",
    "        goals_1 = df.loc[df['Attack_1'] == name]['G2'].sum()\n",
    "        goals_2 = df.loc[df['Attack_2'] == name]['G1'].sum()\n",
    "        goals_total = goals_1 + goals_2\n",
    "        \n",
    "    elif position == 'defence':\n",
    "        \n",
    "        goals_1 = df.loc[df['Defence_1'] == name]['G2'].sum()\n",
    "        goals_2 = df.loc[df['Defence_2'] == name]['G1'].sum()\n",
    "        goals_total = goals_1 + goals_2\n",
    "              \n",
    "        \n",
    "    return goals_total\n"
   ]
  },
  {
   "cell_type": "code",
   "execution_count": 37,
   "id": "041da4de-b8b2-4a55-a572-a4d1ef027f93",
   "metadata": {
    "tags": []
   },
   "outputs": [],
   "source": [
    "def goals_scored_avg(df, name, position = 'all'):\n",
    "    \n",
    "    ''' Calculating avg goals scored by player per match while on diffrent position '''\n",
    "\n",
    "    if position == 'all':\n",
    "        \n",
    "        goals = goals_scored_total(df, name, position = 'all')\n",
    "        matches = played(df, name, position = 'all')\n",
    "        avg_goals = round((goals/matches), 1)\n",
    "        \n",
    "    elif position == 'attack':\n",
    "        \n",
    "        goals = goals_scored_total(df, name, position = 'attack')\n",
    "        matches = played(df, name, position = 'attack')\n",
    "        avg_goals = round((goals/matches), 1)\n",
    "        \n",
    "    elif position == 'defence':\n",
    "        \n",
    "        goals = goals_scored_total(df, name, position = 'defence')\n",
    "        matches = played(df, name, position = 'defence')\n",
    "        avg_goals = round((goals/matches), 1)\n",
    "        \n",
    "        \n",
    "    return avg_goals\n",
    "    "
   ]
  },
  {
   "cell_type": "code",
   "execution_count": 38,
   "id": "ae2ade9c-be84-407b-baf5-319345f24656",
   "metadata": {
    "tags": []
   },
   "outputs": [],
   "source": [
    "def goals_lost_avg(df, name, position = 'all'):\n",
    "    \n",
    "    ''' Calculating avg goals lost by player per match while on difftent position '''\n",
    "\n",
    "    if position == 'all':\n",
    "        \n",
    "        goals = goals_lost_total(df, name, position = 'all')\n",
    "        matches = played(df, name, position = 'all')\n",
    "        avg_goals = round((goals/matches), 1)\n",
    "        \n",
    "    elif position == 'attack':\n",
    "        \n",
    "        goals = goals_lost_total(df, name, position = 'attack')\n",
    "        matches = played(df, name, position = 'attack')\n",
    "        avg_goals = round((goals/matches), 1)\n",
    "        \n",
    "    elif position == 'defence':\n",
    "        \n",
    "        goals = goals_lost_total(df, name, position = 'defence')\n",
    "        matches = played(df, name, position = 'defence')\n",
    "        avg_goals = round((goals/matches), 1)\n",
    "        \n",
    "        \n",
    "    return avg_goals\n",
    "    "
   ]
  },
  {
   "cell_type": "code",
   "execution_count": 39,
   "id": "4c0981be-2358-459b-b596-245d82657359",
   "metadata": {
    "tags": []
   },
   "outputs": [],
   "source": [
    "all_players  = np.unique(df[['Attack_1', 'Defence_1','Attack_2' ,'Defence_2' ]].values)"
   ]
  },
  {
   "cell_type": "code",
   "execution_count": 40,
   "id": "8a3cf811-4af6-4875-bdc5-16e37fdfa03b",
   "metadata": {
    "tags": []
   },
   "outputs": [
    {
     "data": {
      "text/plain": [
       "4.6"
      ]
     },
     "execution_count": 40,
     "metadata": {},
     "output_type": "execute_result"
    }
   ],
   "source": [
    "goals_lost_avg(df, 'Szymon', 'attack')\n"
   ]
  },
  {
   "cell_type": "code",
   "execution_count": 51,
   "id": "db701ea0-e71d-4a93-a106-407f4ca57a5a",
   "metadata": {
    "tags": []
   },
   "outputs": [
    {
     "data": {
      "text/plain": [
       "1121"
      ]
     },
     "execution_count": 51,
     "metadata": {},
     "output_type": "execute_result"
    }
   ],
   "source": [
    "x = goals_scored_total(df, 'Szymon', position = 'all')\n",
    "x"
   ]
  },
  {
   "cell_type": "code",
   "execution_count": 42,
   "id": "186250a3-10cb-4ca8-bb2b-00d987fd2272",
   "metadata": {
    "tags": []
   },
   "outputs": [
    {
     "name": "stdout",
     "output_type": "stream",
     "text": [
      "played\n",
      "Dawid: 50.8\n",
      "Eryk: 41.3\n",
      "Krzysiu: 30.8\n",
      "Kuba: 60.9\n",
      "Szymon: 70.1\n",
      "Wojtek: 46.1\n"
     ]
    }
   ],
   "source": [
    "\n",
    "print('played')\n",
    "for player in all_players:\n",
    "    print(f'{player}:', win_rate(df, player, position = 'all'))"
   ]
  },
  {
   "cell_type": "code",
   "execution_count": 49,
   "id": "cc80c6ef-41ee-4879-8fc3-e6030bb7b69f",
   "metadata": {},
   "outputs": [
    {
     "name": "stdout",
     "output_type": "stream",
     "text": [
      "Win rates (all matches)\n"
     ]
    },
    {
     "ename": "UnboundLocalError",
     "evalue": "cannot access local variable 'played' where it is not associated with a value",
     "output_type": "error",
     "traceback": [
      "\u001b[1;31m---------------------------------------------------------------------------\u001b[0m",
      "\u001b[1;31mUnboundLocalError\u001b[0m                         Traceback (most recent call last)",
      "Cell \u001b[1;32mIn[49], line 3\u001b[0m\n\u001b[0;32m      1\u001b[0m \u001b[38;5;28mprint\u001b[39m(\u001b[38;5;124m'\u001b[39m\u001b[38;5;124mWin rates (all matches)\u001b[39m\u001b[38;5;124m'\u001b[39m)\n\u001b[0;32m      2\u001b[0m \u001b[38;5;28;01mfor\u001b[39;00m player \u001b[38;5;129;01min\u001b[39;00m all_players:\n\u001b[1;32m----> 3\u001b[0m     x \u001b[38;5;241m=\u001b[39m \u001b[43mplayed\u001b[49m\u001b[43m(\u001b[49m\u001b[43mdf\u001b[49m\u001b[43m,\u001b[49m\u001b[43m \u001b[49m\u001b[43mplayer\u001b[49m\u001b[43m,\u001b[49m\u001b[43m \u001b[49m\u001b[43mposition\u001b[49m\u001b[43m \u001b[49m\u001b[38;5;241;43m=\u001b[39;49m\u001b[43m \u001b[49m\u001b[38;5;124;43m'\u001b[39;49m\u001b[38;5;124;43mall\u001b[39;49m\u001b[38;5;124;43m'\u001b[39;49m\u001b[43m \u001b[49m\u001b[43m)\u001b[49m\n\u001b[0;32m      4\u001b[0m     \u001b[38;5;28mprint\u001b[39m(\u001b[38;5;124mf\u001b[39m\u001b[38;5;124m'\u001b[39m\u001b[38;5;132;01m{\u001b[39;00mplayer\u001b[38;5;132;01m}\u001b[39;00m\u001b[38;5;124m:\u001b[39m\u001b[38;5;124m'\u001b[39m, x)\n",
      "File \u001b[1;32mD:\\Projects\\foosball\\stats.py:19\u001b[0m, in \u001b[0;36mplayed\u001b[1;34m(df, name, position)\u001b[0m\n\u001b[0;32m     15\u001b[0m \u001b[38;5;28;01melif\u001b[39;00m position \u001b[38;5;241m==\u001b[39m \u001b[38;5;124m'\u001b[39m\u001b[38;5;124mdefence\u001b[39m\u001b[38;5;124m'\u001b[39m:\n\u001b[0;32m     16\u001b[0m     played \u001b[38;5;241m=\u001b[39m \u001b[38;5;28mlen\u001b[39m(df\u001b[38;5;241m.\u001b[39mloc[(df[\u001b[38;5;124m'\u001b[39m\u001b[38;5;124mDefence_1\u001b[39m\u001b[38;5;124m'\u001b[39m] \u001b[38;5;241m==\u001b[39m name) \u001b[38;5;241m|\u001b[39m (df[\u001b[38;5;124m'\u001b[39m\u001b[38;5;124mDefence_2\u001b[39m\u001b[38;5;124m'\u001b[39m] \u001b[38;5;241m==\u001b[39m name)])\n\u001b[1;32m---> 19\u001b[0m \u001b[38;5;28;01mreturn\u001b[39;00m \u001b[43mplayed\u001b[49m\n",
      "\u001b[1;31mUnboundLocalError\u001b[0m: cannot access local variable 'played' where it is not associated with a value"
     ]
    }
   ],
   "source": [
    "\n",
    "print('Win rates (all matches)')\n",
    "for player in all_players:\n",
    "    x = played(df, player, position = 'all' )\n",
    "    print(f'{player}:', x)"
   ]
  },
  {
   "cell_type": "code",
   "execution_count": 330,
   "id": "0370cbb6-2f1f-4dae-a677-7afd667061d3",
   "metadata": {},
   "outputs": [
    {
     "name": "stdout",
     "output_type": "stream",
     "text": [
      "Dawid: 6.3\n",
      "Eryk: 5.5\n",
      "Krzysiu: 6.8\n",
      "Kuba: 4.8\n",
      "Szymon: 5.9\n",
      "Wojtek: 7.1\n"
     ]
    }
   ],
   "source": [
    "for player in all_players:\n",
    "    print(f'{player}:', goals_lost_avg(df, player, position = 'defence'))\n",
    "    "
   ]
  },
  {
   "cell_type": "code",
   "execution_count": 327,
   "id": "eb44d407-cb96-48dd-b5a9-f0e6e96902a6",
   "metadata": {},
   "outputs": [
    {
     "name": "stdout",
     "output_type": "stream",
     "text": [
      "Dawid 44.4\n",
      "Eryk 83.3\n",
      "Krzysiu 30.0\n",
      "Kuba 100.0\n",
      "Szymon 55.6\n",
      "Wojtek 30.0\n"
     ]
    }
   ],
   "source": [
    "for player in all_players:\n",
    "    winrate = win_rate(df, player, position = 'defence')\n",
    "    print(player, winrate)"
   ]
  },
  {
   "cell_type": "code",
   "execution_count": 181,
   "id": "96c93905-282b-44e4-8616-24473903a6a1",
   "metadata": {},
   "outputs": [
    {
     "data": {
      "text/plain": [
       "Attack_1     object\n",
       "Defence_1    object\n",
       "Attack_2     object\n",
       "Defence_2    object\n",
       "G1            int64\n",
       "G2            int64\n",
       "Win           int64\n",
       "dtype: object"
      ]
     },
     "execution_count": 181,
     "metadata": {},
     "output_type": "execute_result"
    }
   ],
   "source": [
    "df.dtypes"
   ]
  },
  {
   "cell_type": "code",
   "execution_count": 14,
   "id": "4b9a021f-4700-4838-808a-b3ce73a90e32",
   "metadata": {},
   "outputs": [
    {
     "data": {
      "text/html": [
       "<div>\n",
       "<style scoped>\n",
       "    .dataframe tbody tr th:only-of-type {\n",
       "        vertical-align: middle;\n",
       "    }\n",
       "\n",
       "    .dataframe tbody tr th {\n",
       "        vertical-align: top;\n",
       "    }\n",
       "\n",
       "    .dataframe thead th {\n",
       "        text-align: right;\n",
       "    }\n",
       "</style>\n",
       "<table border=\"1\" class=\"dataframe\">\n",
       "  <thead>\n",
       "    <tr style=\"text-align: right;\">\n",
       "      <th></th>\n",
       "      <th>Date</th>\n",
       "      <th>Attack_1</th>\n",
       "      <th>Defence_1</th>\n",
       "      <th>Attack_2</th>\n",
       "      <th>Defence_2</th>\n",
       "      <th>G1</th>\n",
       "      <th>G2</th>\n",
       "      <th>Win</th>\n",
       "    </tr>\n",
       "  </thead>\n",
       "  <tbody>\n",
       "    <tr>\n",
       "      <th>0</th>\n",
       "      <td>2023-03-28</td>\n",
       "      <td>Szymon</td>\n",
       "      <td>Dawid</td>\n",
       "      <td>Eryk</td>\n",
       "      <td>Wojtek</td>\n",
       "      <td>8</td>\n",
       "      <td>5</td>\n",
       "      <td>1</td>\n",
       "    </tr>\n",
       "    <tr>\n",
       "      <th>1</th>\n",
       "      <td>2023-03-28</td>\n",
       "      <td>Dawid</td>\n",
       "      <td>Szymon</td>\n",
       "      <td>Wojtek</td>\n",
       "      <td>Eryk</td>\n",
       "      <td>7</td>\n",
       "      <td>8</td>\n",
       "      <td>2</td>\n",
       "    </tr>\n",
       "    <tr>\n",
       "      <th>2</th>\n",
       "      <td>2023-03-28</td>\n",
       "      <td>Szymon</td>\n",
       "      <td>Krzysiu</td>\n",
       "      <td>Kuba</td>\n",
       "      <td>Wojtek</td>\n",
       "      <td>8</td>\n",
       "      <td>3</td>\n",
       "      <td>1</td>\n",
       "    </tr>\n",
       "    <tr>\n",
       "      <th>3</th>\n",
       "      <td>2023-03-28</td>\n",
       "      <td>Krzysiu</td>\n",
       "      <td>Szymon</td>\n",
       "      <td>Wojtek</td>\n",
       "      <td>Kuba</td>\n",
       "      <td>7</td>\n",
       "      <td>8</td>\n",
       "      <td>2</td>\n",
       "    </tr>\n",
       "    <tr>\n",
       "      <th>4</th>\n",
       "      <td>2023-03-28</td>\n",
       "      <td>Szymon</td>\n",
       "      <td>Wojtek</td>\n",
       "      <td>Dawid</td>\n",
       "      <td>Krzysiu</td>\n",
       "      <td>8</td>\n",
       "      <td>5</td>\n",
       "      <td>1</td>\n",
       "    </tr>\n",
       "  </tbody>\n",
       "</table>\n",
       "</div>"
      ],
      "text/plain": [
       "        Date Attack_1 Defence_1 Attack_2 Defence_2  G1  G2  Win\n",
       "0 2023-03-28   Szymon     Dawid     Eryk    Wojtek   8   5    1\n",
       "1 2023-03-28    Dawid    Szymon   Wojtek      Eryk   7   8    2\n",
       "2 2023-03-28   Szymon   Krzysiu     Kuba    Wojtek   8   3    1\n",
       "3 2023-03-28  Krzysiu    Szymon   Wojtek      Kuba   7   8    2\n",
       "4 2023-03-28   Szymon    Wojtek    Dawid   Krzysiu   8   5    1"
      ]
     },
     "execution_count": 14,
     "metadata": {},
     "output_type": "execute_result"
    }
   ],
   "source": [
    "df_1.head()"
   ]
  },
  {
   "cell_type": "markdown",
   "id": "39f08965-2f66-4f35-9565-5fe498a5a798",
   "metadata": {},
   "source": [
    "### Winrate with partner total"
   ]
  },
  {
   "cell_type": "code",
   "execution_count": 54,
   "id": "6dbc409e-d3b6-4645-b785-762e74620e9b",
   "metadata": {},
   "outputs": [],
   "source": [
    "\n",
    "def winrate_w_partner(df, name, name2, position = 'total'):\n",
    "    \n",
    "\n",
    "    if position == 'total':\n",
    "\n",
    "        played_1 = df_1.loc[((df_1['Attack_1'] == name) & \n",
    "                        (df_1['Defence_1'] == name2)) | \n",
    "                        ((df_1['Attack_1'] == name2) & \n",
    "                        (df_1['Defence_1'] == name))]\n",
    "\n",
    "        played_2 = df_1.loc[((df_1['Attack_2'] == name) & \n",
    "                        (df_1['Defence_2'] == name2)) | \n",
    "                        ((df_1['Attack_2'] == name2) & \n",
    "                        (df_1['Defence_2'] == name))]\n",
    "\n",
    "        wins_1 = played_1.loc[df_1['Win'] == 1]\n",
    "        wins_2 = played_2.loc[df_1['Win'] == 2]\n",
    "\n",
    "        played_all = len(played_1) + len(played_2)\n",
    "        \n",
    "        wins_total = len(wins_1) + len(wins_2)\n",
    "        \n",
    "        try:\n",
    "                \n",
    "            winrate = round(((wins_total/played_all)*100), 1)\n",
    "            \n",
    "        except:\n",
    "            \n",
    "            winrate = 'Not enough data'\n",
    "        \n",
    "        \n",
    "    elif position == 'attack':\n",
    "\n",
    "        played_1 = df_1.loc[((df_1['Attack_1'] == name) & \n",
    "                        (df_1['Defence_1'] == name2))]\n",
    "        \n",
    "        played_2 = df_1.loc[((df_1['Attack_2'] == name) & \n",
    "                        (df_1['Defence_2'] == name2))]\n",
    "                       \n",
    "\n",
    "        wins_1 = played_1.loc[df_1['Win'] == 1]\n",
    "        wins_2 = played_2.loc[df_1['Win'] == 2]\n",
    "\n",
    "        played_all = len(played_1) + len(played_2)\n",
    "        \n",
    "        wins_total = len(wins_1) + len(wins_2)\n",
    "        \n",
    "        try:\n",
    "            \n",
    "            winrate = round(((wins_total/played_all)*100), 1)\n",
    "            \n",
    "        except:\n",
    "            \n",
    "            winrate = 'Not enough data'\n",
    "            \n",
    "        \n",
    "    elif position == 'defence':\n",
    "\n",
    "        played_1 = df_1.loc[((df_1['Attack_1'] == name2) & \n",
    "                        (df_1['Defence_1'] == name))]\n",
    "        \n",
    "        played_2 = df_1.loc[((df_1['Attack_2'] == name2) & \n",
    "                        (df_1['Defence_2'] == name))]\n",
    "                       \n",
    "\n",
    "        wins_1 = played_1.loc[df_1['Win'] == 1]\n",
    "        wins_2 = played_2.loc[df_1['Win'] == 2]\n",
    "\n",
    "        played_all = len(played_1) + len(played_2)\n",
    "        \n",
    "        wins_total = len(wins_1) + len(wins_2)\n",
    "        \n",
    "        try:\n",
    "            \n",
    "            winrate = round(((wins_total/played_all)*100), 1)\n",
    "            \n",
    "        except:\n",
    "            \n",
    "            winrate = 'Not enough data'\n",
    "            \n",
    "        \n",
    "    return winrate"
   ]
  },
  {
   "cell_type": "code",
   "execution_count": 61,
   "id": "8e2027d9-a35c-4e44-b33a-cd32a1b39412",
   "metadata": {},
   "outputs": [
    {
     "data": {
      "text/plain": [
       "40.0"
      ]
     },
     "execution_count": 61,
     "metadata": {},
     "output_type": "execute_result"
    }
   ],
   "source": [
    "x= winrate_w_partner(df = df_1, name = 'Kuba', name2 = 'Krzysiu' , position = 'attack')\n",
    "x"
   ]
  },
  {
   "cell_type": "markdown",
   "id": "6b0c579e-cc3f-47b1-a25c-e43340ff6886",
   "metadata": {},
   "source": [
    "### Winrate with partner when player on attack"
   ]
  },
  {
   "cell_type": "code",
   "execution_count": 8,
   "id": "691ec171-c072-4f8f-8c91-edfd1c59e12e",
   "metadata": {
    "tags": []
   },
   "outputs": [
    {
     "data": {
      "text/plain": [
       "Index(['Date', 'Attack_1', 'Defence_1', 'Attack_2', 'Defence_2', 'G1', 'G2',\n",
       "       'Win'],\n",
       "      dtype='object')"
      ]
     },
     "execution_count": 8,
     "metadata": {},
     "output_type": "execute_result"
    }
   ],
   "source": [
    "df_1.columns"
   ]
  },
  {
   "cell_type": "code",
   "execution_count": 10,
   "id": "7364979c-2e24-4593-a2c7-dc0c29ffebcb",
   "metadata": {
    "tags": []
   },
   "outputs": [
    {
     "data": {
      "text/plain": [
       "array(['Szymon', 'Dawid', 'Krzysiu', 'Wojtek', 'Kuba', 'Eryk'],\n",
       "      dtype=object)"
      ]
     },
     "execution_count": 10,
     "metadata": {},
     "output_type": "execute_result"
    }
   ],
   "source": [
    "names = df['Attack_1'].unique()\n",
    "names"
   ]
  },
  {
   "cell_type": "code",
   "execution_count": 16,
   "id": "722df0a0-914f-4782-9556-f16654ffe1d1",
   "metadata": {
    "tags": []
   },
   "outputs": [],
   "source": [
    "df_dumm = pd.get_dummies(df_1, columns = ['Attack_1', 'Defence_1', 'Attack_2', 'Defence_2'])\n",
    "\n",
    "df_bad = pd.DataFrame(columns = [\"name\", \"index\"])\n",
    "k = 0\n",
    "for name in names:\n",
    "    cols = [i for i in df_dumm.columns if name in i]\n",
    "    s = df_dumm[cols].sum(axis = 1)\n",
    "    for index in s.where(s > 1).dropna().index:\n",
    "        df_bad.loc[k] = name, index\n",
    "        k += 1"
   ]
  },
  {
   "cell_type": "code",
   "execution_count": 28,
   "id": "cf8a87f8-16d5-44b9-8f77-acae83658cbf",
   "metadata": {
    "tags": []
   },
   "outputs": [],
   "source": [
    "def rankings(df, kpi):\n",
    "    \n",
    "    \"\"\"Creating DataFrame with player name and calculated metric\n",
    "    \n",
    "    params:\n",
    "        df : pd.DataFrame - dataset with gathered scores from matches\n",
    "        kpi : str - name of statistic to calculate\n",
    "        \n",
    "    return:\n",
    "        df_kpi : pd.DataFrame - dataframe with player names and calculated statistics, adequate sorted\n",
    "    \n",
    "    \"\"\"\n",
    "    \n",
    "    all_players = np.unique(df[['Attack_1', 'Defence_1','Attack_2' ,'Defence_2' ]].values)\n",
    "    df_kpi = pd.DataFrame(columns = ['Player name', 'kpi'])\n",
    "    \n",
    "    if kpi == 'Winrate on attack':\n",
    "\n",
    "        for idx, name in enumerate(all_players):\n",
    "            df_kpi.loc[idx, 'Player name'] = name\n",
    "            df_kpi.loc[idx, 'kpi'] = round(win_rate(df = df, name = name, position = 'attack'), 2)\n",
    "        \n",
    "    elif kpi == 'Winrate on defence':\n",
    "\n",
    "        for idx, name in enumerate(all_players):\n",
    "            df_kpi.loc[idx, 'Player name'] = name\n",
    "            df_kpi.loc[idx, 'kpi'] = round(win_rate(df = df, name = name, position = 'defence'), 2)\n",
    "        \n",
    "    elif kpi == 'Winrate total':\n",
    "    \n",
    "        for idx, name in enumerate(all_players):\n",
    "            df_kpi.loc[idx, 'Player name'] = name\n",
    "            df_kpi.loc[idx, 'kpi'] = round(win_rate(df = df, name = name, position = 'all'), 2)\n",
    "        \n",
    "    elif kpi == 'Played total':\n",
    "        \n",
    "        for idx, name in enumerate(all_players):\n",
    "            df_kpi.loc[idx, 'Player name'] = name\n",
    "            df_kpi.loc[idx, 'kpi'] = played(df, name, position = 'all')\n",
    "            \n",
    "    elif kpi == 'Played on attack':\n",
    "        \n",
    "        for idx, name in enumerate(all_players):\n",
    "            df_kpi.loc[idx, 'Player name'] = name\n",
    "            df_kpi.loc[idx, 'kpi'] = played(df, name, position = 'attack')\n",
    "            \n",
    "    elif kpi == 'Played on defence':\n",
    "        \n",
    "        for idx, name in enumerate(all_players):\n",
    "            df_kpi.loc[idx, 'Player name'] = name\n",
    "            df_kpi.loc[idx, 'kpi'] = played(df, name, position = 'defence')\n",
    "        \n",
    "    elif kpi == 'Avg goals scored while on attack':\n",
    "        \n",
    "        for idx, name in enumerate(all_players):\n",
    "            df_kpi.loc[idx, 'Player name'] = name\n",
    "            df_kpi.loc[idx, 'kpi'] = round(goals_scored_avg(df, name, position = 'attack'), 2)\n",
    "            \n",
    "    elif kpi == 'Avg goals scored while on defence':\n",
    "        \n",
    "        for idx, name in enumerate(all_players):\n",
    "            df_kpi.loc[idx, 'Player name'] = name\n",
    "            df_kpi.loc[idx, 'kpi'] = round(goals_scored_avg(df, name, position = 'defence'), 2)\n",
    "            \n",
    "    elif kpi == 'Avg goals lost while on defence':\n",
    "        \n",
    "        for idx, name in enumerate(all_players):\n",
    "            df_kpi.loc[idx, 'Player name'] = name\n",
    "            df_kpi.loc[idx, 'kpi'] = round(goals_lost_avg(df, name, position = 'defence'), 2)\n",
    "            \n",
    "    elif kpi == 'Avg goals lost while on attack':\n",
    "        \n",
    "        for idx, name in enumerate(all_players):\n",
    "            df_kpi.loc[idx, 'Player name'] = name\n",
    "            df_kpi.loc[idx, 'kpi'] = round(goals_lost_avg(df, name, position = 'attack'), 2)\n",
    "            \n",
    "    if (kpi == 'Avg goals lost while on defence') | (kpi == 'Avg goals lost while on attack'):\n",
    "        df_kpi.sort_values('kpi', inplace = True, ascending  = True)\n",
    "    else:\n",
    "        df_kpi.sort_values('kpi', inplace = True, ascending  = False)\n",
    "        \n",
    "    df_kpi.reset_index(inplace = True, drop = True)\n",
    "    df_kpi.index += 1 \n",
    "    # df_kpi = df_kpi.rename(columns = {'index':'Rank'})\n",
    "    df_kpi.rename(columns = {'kpi' : kpi}, inplace = True)\n",
    "    \n",
    "    \n",
    "    return df_kpi\n",
    "    "
   ]
  },
  {
   "cell_type": "code",
   "execution_count": 29,
   "id": "e36c8bfa-37e6-41ba-8ee4-6aca5b55cc30",
   "metadata": {
    "tags": []
   },
   "outputs": [
    {
     "data": {
      "text/html": [
       "<div>\n",
       "<style scoped>\n",
       "    .dataframe tbody tr th:only-of-type {\n",
       "        vertical-align: middle;\n",
       "    }\n",
       "\n",
       "    .dataframe tbody tr th {\n",
       "        vertical-align: top;\n",
       "    }\n",
       "\n",
       "    .dataframe thead th {\n",
       "        text-align: right;\n",
       "    }\n",
       "</style>\n",
       "<table border=\"1\" class=\"dataframe\">\n",
       "  <thead>\n",
       "    <tr style=\"text-align: right;\">\n",
       "      <th></th>\n",
       "      <th>Player name</th>\n",
       "      <th>Winrate on attack</th>\n",
       "    </tr>\n",
       "  </thead>\n",
       "  <tbody>\n",
       "    <tr>\n",
       "      <th>1</th>\n",
       "      <td>Szymon</td>\n",
       "      <td>77.89</td>\n",
       "    </tr>\n",
       "    <tr>\n",
       "      <th>2</th>\n",
       "      <td>Dawid</td>\n",
       "      <td>53.25</td>\n",
       "    </tr>\n",
       "    <tr>\n",
       "      <th>3</th>\n",
       "      <td>Kuba</td>\n",
       "      <td>51.79</td>\n",
       "    </tr>\n",
       "    <tr>\n",
       "      <th>4</th>\n",
       "      <td>Eryk</td>\n",
       "      <td>51.35</td>\n",
       "    </tr>\n",
       "    <tr>\n",
       "      <th>5</th>\n",
       "      <td>Wojtek</td>\n",
       "      <td>43.9</td>\n",
       "    </tr>\n",
       "    <tr>\n",
       "      <th>6</th>\n",
       "      <td>Krzysiu</td>\n",
       "      <td>25.24</td>\n",
       "    </tr>\n",
       "  </tbody>\n",
       "</table>\n",
       "</div>"
      ],
      "text/plain": [
       "  Player name Winrate on attack\n",
       "1      Szymon             77.89\n",
       "2       Dawid             53.25\n",
       "3        Kuba             51.79\n",
       "4        Eryk             51.35\n",
       "5      Wojtek              43.9\n",
       "6     Krzysiu             25.24"
      ]
     },
     "execution_count": 29,
     "metadata": {},
     "output_type": "execute_result"
    }
   ],
   "source": [
    "tmp = rankings(df, 'Winrate on attack')\n",
    "tmp"
   ]
  },
  {
   "cell_type": "code",
   "execution_count": 11,
   "id": "3b38b178-8e8e-43b0-916a-70de9af2c32b",
   "metadata": {
    "tags": []
   },
   "outputs": [],
   "source": [
    "all_players = np.unique(df[['Attack_1', 'Defence_1','Attack_2' ,'Defence_2' ]].values)\n"
   ]
  },
  {
   "cell_type": "code",
   "execution_count": 67,
   "id": "d68640f5-82f5-4a40-9a5e-a095869b7d12",
   "metadata": {
    "tags": []
   },
   "outputs": [],
   "source": [
    "all_players = np.unique(df[['Attack_1', 'Defence_1','Attack_2' ,'Defence_2' ]].values)\n",
    "kpi = 'Win rate on attack'\n",
    "if kpi == 'Win rate on attack':\n",
    "\n",
    "    df_kpi = pd.DataFrame(columns = ['name', 'Win rate on attack'])\n",
    "\n",
    "\n",
    "    for idx, name in enumerate(all_players):\n",
    "        df_kpi.loc[idx, 'name'] = name\n",
    "        df_kpi.loc[idx, 'Win rate on attack'] = win_rate(df = df, name = name, position = 'attack')\n",
    "\n",
    "    df_kpi.sort_values('Win rate on attack', inplace = True, ascending  = False)\n",
    "    df_kpi = df_kpi.reset_index(drop = True)"
   ]
  },
  {
   "cell_type": "code",
   "execution_count": 68,
   "id": "01c094e6-d000-4c57-b351-d4863371f4df",
   "metadata": {
    "tags": []
   },
   "outputs": [
    {
     "data": {
      "text/html": [
       "<div>\n",
       "<style scoped>\n",
       "    .dataframe tbody tr th:only-of-type {\n",
       "        vertical-align: middle;\n",
       "    }\n",
       "\n",
       "    .dataframe tbody tr th {\n",
       "        vertical-align: top;\n",
       "    }\n",
       "\n",
       "    .dataframe thead th {\n",
       "        text-align: right;\n",
       "    }\n",
       "</style>\n",
       "<table border=\"1\" class=\"dataframe\">\n",
       "  <thead>\n",
       "    <tr style=\"text-align: right;\">\n",
       "      <th></th>\n",
       "      <th>name</th>\n",
       "      <th>Win rate on attack</th>\n",
       "    </tr>\n",
       "  </thead>\n",
       "  <tbody>\n",
       "    <tr>\n",
       "      <th>0</th>\n",
       "      <td>Szymon</td>\n",
       "      <td>77.9</td>\n",
       "    </tr>\n",
       "    <tr>\n",
       "      <th>1</th>\n",
       "      <td>Dawid</td>\n",
       "      <td>53.2</td>\n",
       "    </tr>\n",
       "    <tr>\n",
       "      <th>2</th>\n",
       "      <td>Kuba</td>\n",
       "      <td>51.8</td>\n",
       "    </tr>\n",
       "    <tr>\n",
       "      <th>3</th>\n",
       "      <td>Eryk</td>\n",
       "      <td>51.4</td>\n",
       "    </tr>\n",
       "    <tr>\n",
       "      <th>4</th>\n",
       "      <td>Wojtek</td>\n",
       "      <td>43.9</td>\n",
       "    </tr>\n",
       "    <tr>\n",
       "      <th>5</th>\n",
       "      <td>Krzysiu</td>\n",
       "      <td>25.2</td>\n",
       "    </tr>\n",
       "  </tbody>\n",
       "</table>\n",
       "</div>"
      ],
      "text/plain": [
       "      name Win rate on attack\n",
       "0   Szymon               77.9\n",
       "1    Dawid               53.2\n",
       "2     Kuba               51.8\n",
       "3     Eryk               51.4\n",
       "4   Wojtek               43.9\n",
       "5  Krzysiu               25.2"
      ]
     },
     "execution_count": 68,
     "metadata": {},
     "output_type": "execute_result"
    }
   ],
   "source": [
    "df_kpi"
   ]
  },
  {
   "cell_type": "code",
   "execution_count": 50,
   "id": "be903ada-c24f-40de-a3d9-4d220dd29611",
   "metadata": {
    "tags": []
   },
   "outputs": [
    {
     "name": "stdout",
     "output_type": "stream",
     "text": [
      "Dawid\n",
      "Eryk\n",
      "Krzysiu\n",
      "Kuba\n",
      "Szymon\n",
      "Wojtek\n"
     ]
    }
   ],
   "source": [
    "for name in all_players:\n",
    "    print(name)"
   ]
  },
  {
   "cell_type": "code",
   "execution_count": 17,
   "id": "c00c6d47-5b9e-4f3d-a126-09023acef9f0",
   "metadata": {
    "tags": []
   },
   "outputs": [],
   "source": [
    "# def data_prep(df, model_df):\n",
    "df_dumm = pd.get_dummies(df_1, columns = [\"Attack_1\",\"Defence_1\", \"Attack_2\", \"Defence_2\"])\n",
    "attack_columns = [col for col in df_dumm.columns if 'Attack' in col]    \n",
    "defence_columns = [col for col in df_dumm.columns if 'Defence' in col] "
   ]
  },
  {
   "cell_type": "code",
   "execution_count": 18,
   "id": "44015a21-b232-486a-9202-6490532835de",
   "metadata": {
    "tags": []
   },
   "outputs": [],
   "source": [
    "all_columns = attack_columns + defence_columns"
   ]
  },
  {
   "cell_type": "code",
   "execution_count": 20,
   "id": "7a605bb4-05d1-4fd7-9717-f72b845b74bf",
   "metadata": {
    "tags": []
   },
   "outputs": [
    {
     "data": {
      "text/html": [
       "<div>\n",
       "<style scoped>\n",
       "    .dataframe tbody tr th:only-of-type {\n",
       "        vertical-align: middle;\n",
       "    }\n",
       "\n",
       "    .dataframe tbody tr th {\n",
       "        vertical-align: top;\n",
       "    }\n",
       "\n",
       "    .dataframe thead th {\n",
       "        text-align: right;\n",
       "    }\n",
       "</style>\n",
       "<table border=\"1\" class=\"dataframe\">\n",
       "  <thead>\n",
       "    <tr style=\"text-align: right;\">\n",
       "      <th></th>\n",
       "      <th>Attack_1_Dawid</th>\n",
       "      <th>Attack_1_Eryk</th>\n",
       "      <th>Attack_1_Krzysiu</th>\n",
       "      <th>Attack_1_Kuba</th>\n",
       "      <th>Attack_1_Szymon</th>\n",
       "      <th>Attack_1_Wojtek</th>\n",
       "      <th>Attack_2_Dawid</th>\n",
       "      <th>Attack_2_Eryk</th>\n",
       "      <th>Attack_2_Krzysiu</th>\n",
       "      <th>Attack_2_Kuba</th>\n",
       "      <th>...</th>\n",
       "      <th>Defence_1_Krzysiu</th>\n",
       "      <th>Defence_1_Kuba</th>\n",
       "      <th>Defence_1_Szymon</th>\n",
       "      <th>Defence_1_Wojtek</th>\n",
       "      <th>Defence_2_Dawid</th>\n",
       "      <th>Defence_2_Eryk</th>\n",
       "      <th>Defence_2_Krzysiu</th>\n",
       "      <th>Defence_2_Kuba</th>\n",
       "      <th>Defence_2_Szymon</th>\n",
       "      <th>Defence_2_Wojtek</th>\n",
       "    </tr>\n",
       "  </thead>\n",
       "  <tbody>\n",
       "    <tr>\n",
       "      <th>0</th>\n",
       "      <td>False</td>\n",
       "      <td>False</td>\n",
       "      <td>False</td>\n",
       "      <td>False</td>\n",
       "      <td>True</td>\n",
       "      <td>False</td>\n",
       "      <td>False</td>\n",
       "      <td>True</td>\n",
       "      <td>False</td>\n",
       "      <td>False</td>\n",
       "      <td>...</td>\n",
       "      <td>False</td>\n",
       "      <td>False</td>\n",
       "      <td>False</td>\n",
       "      <td>False</td>\n",
       "      <td>False</td>\n",
       "      <td>False</td>\n",
       "      <td>False</td>\n",
       "      <td>False</td>\n",
       "      <td>False</td>\n",
       "      <td>True</td>\n",
       "    </tr>\n",
       "    <tr>\n",
       "      <th>1</th>\n",
       "      <td>True</td>\n",
       "      <td>False</td>\n",
       "      <td>False</td>\n",
       "      <td>False</td>\n",
       "      <td>False</td>\n",
       "      <td>False</td>\n",
       "      <td>False</td>\n",
       "      <td>False</td>\n",
       "      <td>False</td>\n",
       "      <td>False</td>\n",
       "      <td>...</td>\n",
       "      <td>False</td>\n",
       "      <td>False</td>\n",
       "      <td>True</td>\n",
       "      <td>False</td>\n",
       "      <td>False</td>\n",
       "      <td>True</td>\n",
       "      <td>False</td>\n",
       "      <td>False</td>\n",
       "      <td>False</td>\n",
       "      <td>False</td>\n",
       "    </tr>\n",
       "    <tr>\n",
       "      <th>2</th>\n",
       "      <td>False</td>\n",
       "      <td>False</td>\n",
       "      <td>False</td>\n",
       "      <td>False</td>\n",
       "      <td>True</td>\n",
       "      <td>False</td>\n",
       "      <td>False</td>\n",
       "      <td>False</td>\n",
       "      <td>False</td>\n",
       "      <td>True</td>\n",
       "      <td>...</td>\n",
       "      <td>True</td>\n",
       "      <td>False</td>\n",
       "      <td>False</td>\n",
       "      <td>False</td>\n",
       "      <td>False</td>\n",
       "      <td>False</td>\n",
       "      <td>False</td>\n",
       "      <td>False</td>\n",
       "      <td>False</td>\n",
       "      <td>True</td>\n",
       "    </tr>\n",
       "    <tr>\n",
       "      <th>3</th>\n",
       "      <td>False</td>\n",
       "      <td>False</td>\n",
       "      <td>True</td>\n",
       "      <td>False</td>\n",
       "      <td>False</td>\n",
       "      <td>False</td>\n",
       "      <td>False</td>\n",
       "      <td>False</td>\n",
       "      <td>False</td>\n",
       "      <td>False</td>\n",
       "      <td>...</td>\n",
       "      <td>False</td>\n",
       "      <td>False</td>\n",
       "      <td>True</td>\n",
       "      <td>False</td>\n",
       "      <td>False</td>\n",
       "      <td>False</td>\n",
       "      <td>False</td>\n",
       "      <td>True</td>\n",
       "      <td>False</td>\n",
       "      <td>False</td>\n",
       "    </tr>\n",
       "    <tr>\n",
       "      <th>4</th>\n",
       "      <td>False</td>\n",
       "      <td>False</td>\n",
       "      <td>False</td>\n",
       "      <td>False</td>\n",
       "      <td>True</td>\n",
       "      <td>False</td>\n",
       "      <td>True</td>\n",
       "      <td>False</td>\n",
       "      <td>False</td>\n",
       "      <td>False</td>\n",
       "      <td>...</td>\n",
       "      <td>False</td>\n",
       "      <td>False</td>\n",
       "      <td>False</td>\n",
       "      <td>True</td>\n",
       "      <td>False</td>\n",
       "      <td>False</td>\n",
       "      <td>True</td>\n",
       "      <td>False</td>\n",
       "      <td>False</td>\n",
       "      <td>False</td>\n",
       "    </tr>\n",
       "    <tr>\n",
       "      <th>...</th>\n",
       "      <td>...</td>\n",
       "      <td>...</td>\n",
       "      <td>...</td>\n",
       "      <td>...</td>\n",
       "      <td>...</td>\n",
       "      <td>...</td>\n",
       "      <td>...</td>\n",
       "      <td>...</td>\n",
       "      <td>...</td>\n",
       "      <td>...</td>\n",
       "      <td>...</td>\n",
       "      <td>...</td>\n",
       "      <td>...</td>\n",
       "      <td>...</td>\n",
       "      <td>...</td>\n",
       "      <td>...</td>\n",
       "      <td>...</td>\n",
       "      <td>...</td>\n",
       "      <td>...</td>\n",
       "      <td>...</td>\n",
       "      <td>...</td>\n",
       "    </tr>\n",
       "    <tr>\n",
       "      <th>237</th>\n",
       "      <td>False</td>\n",
       "      <td>False</td>\n",
       "      <td>False</td>\n",
       "      <td>False</td>\n",
       "      <td>False</td>\n",
       "      <td>True</td>\n",
       "      <td>True</td>\n",
       "      <td>False</td>\n",
       "      <td>False</td>\n",
       "      <td>False</td>\n",
       "      <td>...</td>\n",
       "      <td>True</td>\n",
       "      <td>False</td>\n",
       "      <td>False</td>\n",
       "      <td>False</td>\n",
       "      <td>False</td>\n",
       "      <td>False</td>\n",
       "      <td>False</td>\n",
       "      <td>False</td>\n",
       "      <td>True</td>\n",
       "      <td>False</td>\n",
       "    </tr>\n",
       "    <tr>\n",
       "      <th>238</th>\n",
       "      <td>False</td>\n",
       "      <td>False</td>\n",
       "      <td>False</td>\n",
       "      <td>True</td>\n",
       "      <td>False</td>\n",
       "      <td>False</td>\n",
       "      <td>True</td>\n",
       "      <td>False</td>\n",
       "      <td>False</td>\n",
       "      <td>False</td>\n",
       "      <td>...</td>\n",
       "      <td>False</td>\n",
       "      <td>False</td>\n",
       "      <td>True</td>\n",
       "      <td>False</td>\n",
       "      <td>False</td>\n",
       "      <td>False</td>\n",
       "      <td>False</td>\n",
       "      <td>False</td>\n",
       "      <td>False</td>\n",
       "      <td>True</td>\n",
       "    </tr>\n",
       "    <tr>\n",
       "      <th>239</th>\n",
       "      <td>False</td>\n",
       "      <td>False</td>\n",
       "      <td>False</td>\n",
       "      <td>False</td>\n",
       "      <td>True</td>\n",
       "      <td>False</td>\n",
       "      <td>False</td>\n",
       "      <td>False</td>\n",
       "      <td>True</td>\n",
       "      <td>False</td>\n",
       "      <td>...</td>\n",
       "      <td>False</td>\n",
       "      <td>False</td>\n",
       "      <td>False</td>\n",
       "      <td>True</td>\n",
       "      <td>False</td>\n",
       "      <td>False</td>\n",
       "      <td>False</td>\n",
       "      <td>True</td>\n",
       "      <td>False</td>\n",
       "      <td>False</td>\n",
       "    </tr>\n",
       "    <tr>\n",
       "      <th>240</th>\n",
       "      <td>True</td>\n",
       "      <td>False</td>\n",
       "      <td>False</td>\n",
       "      <td>False</td>\n",
       "      <td>False</td>\n",
       "      <td>False</td>\n",
       "      <td>False</td>\n",
       "      <td>False</td>\n",
       "      <td>False</td>\n",
       "      <td>True</td>\n",
       "      <td>...</td>\n",
       "      <td>True</td>\n",
       "      <td>False</td>\n",
       "      <td>False</td>\n",
       "      <td>False</td>\n",
       "      <td>False</td>\n",
       "      <td>False</td>\n",
       "      <td>False</td>\n",
       "      <td>False</td>\n",
       "      <td>False</td>\n",
       "      <td>True</td>\n",
       "    </tr>\n",
       "    <tr>\n",
       "      <th>241</th>\n",
       "      <td>True</td>\n",
       "      <td>False</td>\n",
       "      <td>False</td>\n",
       "      <td>False</td>\n",
       "      <td>False</td>\n",
       "      <td>False</td>\n",
       "      <td>False</td>\n",
       "      <td>False</td>\n",
       "      <td>False</td>\n",
       "      <td>False</td>\n",
       "      <td>...</td>\n",
       "      <td>False</td>\n",
       "      <td>False</td>\n",
       "      <td>False</td>\n",
       "      <td>True</td>\n",
       "      <td>False</td>\n",
       "      <td>False</td>\n",
       "      <td>True</td>\n",
       "      <td>False</td>\n",
       "      <td>False</td>\n",
       "      <td>False</td>\n",
       "    </tr>\n",
       "  </tbody>\n",
       "</table>\n",
       "<p>242 rows × 24 columns</p>\n",
       "</div>"
      ],
      "text/plain": [
       "     Attack_1_Dawid  Attack_1_Eryk  Attack_1_Krzysiu  Attack_1_Kuba   \n",
       "0             False          False             False          False  \\\n",
       "1              True          False             False          False   \n",
       "2             False          False             False          False   \n",
       "3             False          False              True          False   \n",
       "4             False          False             False          False   \n",
       "..              ...            ...               ...            ...   \n",
       "237           False          False             False          False   \n",
       "238           False          False             False           True   \n",
       "239           False          False             False          False   \n",
       "240            True          False             False          False   \n",
       "241            True          False             False          False   \n",
       "\n",
       "     Attack_1_Szymon  Attack_1_Wojtek  Attack_2_Dawid  Attack_2_Eryk   \n",
       "0               True            False           False           True  \\\n",
       "1              False            False           False          False   \n",
       "2               True            False           False          False   \n",
       "3              False            False           False          False   \n",
       "4               True            False            True          False   \n",
       "..               ...              ...             ...            ...   \n",
       "237            False             True            True          False   \n",
       "238            False            False            True          False   \n",
       "239             True            False           False          False   \n",
       "240            False            False           False          False   \n",
       "241            False            False           False          False   \n",
       "\n",
       "     Attack_2_Krzysiu  Attack_2_Kuba  ...  Defence_1_Krzysiu  Defence_1_Kuba   \n",
       "0               False          False  ...              False           False  \\\n",
       "1               False          False  ...              False           False   \n",
       "2               False           True  ...               True           False   \n",
       "3               False          False  ...              False           False   \n",
       "4               False          False  ...              False           False   \n",
       "..                ...            ...  ...                ...             ...   \n",
       "237             False          False  ...               True           False   \n",
       "238             False          False  ...              False           False   \n",
       "239              True          False  ...              False           False   \n",
       "240             False           True  ...               True           False   \n",
       "241             False          False  ...              False           False   \n",
       "\n",
       "     Defence_1_Szymon  Defence_1_Wojtek  Defence_2_Dawid  Defence_2_Eryk   \n",
       "0               False             False            False           False  \\\n",
       "1                True             False            False            True   \n",
       "2               False             False            False           False   \n",
       "3                True             False            False           False   \n",
       "4               False              True            False           False   \n",
       "..                ...               ...              ...             ...   \n",
       "237             False             False            False           False   \n",
       "238              True             False            False           False   \n",
       "239             False              True            False           False   \n",
       "240             False             False            False           False   \n",
       "241             False              True            False           False   \n",
       "\n",
       "     Defence_2_Krzysiu  Defence_2_Kuba  Defence_2_Szymon  Defence_2_Wojtek  \n",
       "0                False           False             False              True  \n",
       "1                False           False             False             False  \n",
       "2                False           False             False              True  \n",
       "3                False            True             False             False  \n",
       "4                 True           False             False             False  \n",
       "..                 ...             ...               ...               ...  \n",
       "237              False           False              True             False  \n",
       "238              False           False             False              True  \n",
       "239              False            True             False             False  \n",
       "240              False           False             False              True  \n",
       "241               True           False             False             False  \n",
       "\n",
       "[242 rows x 24 columns]"
      ]
     },
     "execution_count": 20,
     "metadata": {},
     "output_type": "execute_result"
    }
   ],
   "source": [
    "df_dumm[all_columns]"
   ]
  },
  {
   "cell_type": "code",
   "execution_count": 1,
   "id": "8509eb2c-2425-4d98-96ce-16bcce550d52",
   "metadata": {
    "tags": []
   },
   "outputs": [
    {
     "ename": "SyntaxError",
     "evalue": "incomplete input (1526081934.py, line 1)",
     "output_type": "error",
     "traceback": [
      "\u001b[1;36m  Cell \u001b[1;32mIn[1], line 1\u001b[1;36m\u001b[0m\n\u001b[1;33m    np.unique(df[['Attack_1', 'Defence_1','Attack_2' ,'Defence_2' ]].values\u001b[0m\n\u001b[1;37m                                                                           ^\u001b[0m\n\u001b[1;31mSyntaxError\u001b[0m\u001b[1;31m:\u001b[0m incomplete input\n"
     ]
    }
   ],
   "source": [
    "np.unique(df[['Attack_1', 'Defence_1','Attack_2' ,'Defence_2' ]].values"
   ]
  },
  {
   "cell_type": "code",
   "execution_count": null,
   "id": "e834294c-a324-4ab5-8947-7d8d5e1ad7bb",
   "metadata": {},
   "outputs": [],
   "source": []
  }
 ],
 "metadata": {
  "kernelspec": {
   "display_name": "Python 3 (ipykernel)",
   "language": "python",
   "name": "python3"
  },
  "language_info": {
   "codemirror_mode": {
    "name": "ipython",
    "version": 3
   },
   "file_extension": ".py",
   "mimetype": "text/x-python",
   "name": "python",
   "nbconvert_exporter": "python",
   "pygments_lexer": "ipython3",
   "version": "3.11.3"
  }
 },
 "nbformat": 4,
 "nbformat_minor": 5
}
