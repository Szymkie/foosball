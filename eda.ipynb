{
 "cells": [
  {
   "cell_type": "code",
   "execution_count": 3,
   "id": "028f587b-91e9-4f67-839c-a75b57331d10",
   "metadata": {},
   "outputs": [],
   "source": [
    "import numpy as np\n",
    "import pandas as pd\n",
    "import plotly.express as px\n",
    "import matplotlib.pyplot as plt\n",
    "import seaborn as sns"
   ]
  },
  {
   "cell_type": "code",
   "execution_count": 112,
   "id": "b29cd4f6-8c3f-418d-ad7d-76ee3f8c1d68",
   "metadata": {},
   "outputs": [
    {
     "name": "stderr",
     "output_type": "stream",
     "text": [
      "C:\\Users\\szymo\\AppData\\Local\\Temp\\ipykernel_25948\\1770188269.py:1: UserWarning: Parsing dates in DD/MM/YYYY format when dayfirst=False (the default) was specified. This may lead to inconsistently parsed dates! Specify a format to ensure consistent parsing.\n",
      "  df = pd.read_csv('data/seuk_scores.csv', sep = ';', parse_dates=['Date'])\n"
     ]
    }
   ],
   "source": [
    "df = pd.read_csv('data/seuk_scores.csv', sep = ';', parse_dates=['Date'])\n"
   ]
  },
  {
   "cell_type": "code",
   "execution_count": 113,
   "id": "bb701af6-065d-43da-add9-90359d4cf5d1",
   "metadata": {},
   "outputs": [],
   "source": [
    "def count(lst):\n",
    "    return sum(bool(x) for x in lst)"
   ]
  },
  {
   "cell_type": "code",
   "execution_count": 114,
   "id": "bf5b404d-a461-4890-9832-a108711b0393",
   "metadata": {},
   "outputs": [],
   "source": [
    "def played(df, name):\n",
    "    \n",
    "    '''Calculating all matches played by played'''\n",
    "    \n",
    "    played = df.applymap(lambda x: name.lower() in str(x).lower()).any(1).sum()\n",
    "    \n",
    "    return played"
   ]
  },
  {
   "cell_type": "code",
   "execution_count": 116,
   "id": "4c0981be-2358-459b-b596-245d82657359",
   "metadata": {},
   "outputs": [],
   "source": [
    "all_players  = np.unique(df[['Attack_1', 'Defense_1','Attack_2' ,'Defense_2' ]].values)"
   ]
  },
  {
   "cell_type": "code",
   "execution_count": 117,
   "id": "7bcdfb0e-7042-490c-a805-66d387ee3ebf",
   "metadata": {},
   "outputs": [
    {
     "data": {
      "text/plain": [
       "array(['Dawid', 'Eryk', 'Krzysiu', 'Kuba', 'Szymon', 'Wojtek'],\n",
       "      dtype=object)"
      ]
     },
     "execution_count": 117,
     "metadata": {},
     "output_type": "execute_result"
    }
   ],
   "source": [
    "all_players"
   ]
  },
  {
   "cell_type": "code",
   "execution_count": 119,
   "id": "0370cbb6-2f1f-4dae-a677-7afd667061d3",
   "metadata": {},
   "outputs": [
    {
     "name": "stdout",
     "output_type": "stream",
     "text": [
      "Dawid: 10\n",
      "Eryk: 2\n",
      "Krzysiu: 8\n",
      "Kuba: 4\n",
      "Szymon: 12\n",
      "Wojtek: 12\n"
     ]
    },
    {
     "name": "stderr",
     "output_type": "stream",
     "text": [
      "C:\\Users\\szymo\\AppData\\Local\\Temp\\ipykernel_25948\\4239298943.py:5: FutureWarning: In a future version of pandas all arguments of DataFrame.any and Series.any will be keyword-only.\n",
      "  played = df.applymap(lambda x: name.lower() in str(x).lower()).any(1).sum()\n"
     ]
    }
   ],
   "source": [
    "for player in all_players:\n",
    "    print(f'{player}:', played(df, player))"
   ]
  },
  {
   "cell_type": "code",
   "execution_count": 93,
   "id": "d4a9c137-9c00-4396-9c0b-ecc929767bb1",
   "metadata": {},
   "outputs": [
    {
     "data": {
      "text/html": [
       "<div>\n",
       "<style scoped>\n",
       "    .dataframe tbody tr th:only-of-type {\n",
       "        vertical-align: middle;\n",
       "    }\n",
       "\n",
       "    .dataframe tbody tr th {\n",
       "        vertical-align: top;\n",
       "    }\n",
       "\n",
       "    .dataframe thead th {\n",
       "        text-align: right;\n",
       "    }\n",
       "</style>\n",
       "<table border=\"1\" class=\"dataframe\">\n",
       "  <thead>\n",
       "    <tr style=\"text-align: right;\">\n",
       "      <th></th>\n",
       "      <th>Attack_1</th>\n",
       "      <th>Defense_1</th>\n",
       "      <th>Attack_2</th>\n",
       "      <th>Defense_2</th>\n",
       "      <th>G1</th>\n",
       "      <th>G2</th>\n",
       "      <th>Win</th>\n",
       "    </tr>\n",
       "  </thead>\n",
       "  <tbody>\n",
       "    <tr>\n",
       "      <th>0</th>\n",
       "      <td>Szymon</td>\n",
       "      <td>Dawid</td>\n",
       "      <td>Eryk</td>\n",
       "      <td>Wojtek</td>\n",
       "      <td>8</td>\n",
       "      <td>5</td>\n",
       "      <td>1</td>\n",
       "    </tr>\n",
       "    <tr>\n",
       "      <th>1</th>\n",
       "      <td>Dawid</td>\n",
       "      <td>Szymon</td>\n",
       "      <td>Wojtek</td>\n",
       "      <td>Eryk</td>\n",
       "      <td>7</td>\n",
       "      <td>8</td>\n",
       "      <td>2</td>\n",
       "    </tr>\n",
       "    <tr>\n",
       "      <th>2</th>\n",
       "      <td>Szymon</td>\n",
       "      <td>Krzysiu</td>\n",
       "      <td>Kuba</td>\n",
       "      <td>Wojtek</td>\n",
       "      <td>8</td>\n",
       "      <td>3</td>\n",
       "      <td>1</td>\n",
       "    </tr>\n",
       "    <tr>\n",
       "      <th>3</th>\n",
       "      <td>Krzysiu</td>\n",
       "      <td>Szymon</td>\n",
       "      <td>Wojtek</td>\n",
       "      <td>Kuba</td>\n",
       "      <td>7</td>\n",
       "      <td>8</td>\n",
       "      <td>2</td>\n",
       "    </tr>\n",
       "    <tr>\n",
       "      <th>4</th>\n",
       "      <td>Szymon</td>\n",
       "      <td>Wojtek</td>\n",
       "      <td>Dawid</td>\n",
       "      <td>Krzysiu</td>\n",
       "      <td>8</td>\n",
       "      <td>5</td>\n",
       "      <td>1</td>\n",
       "    </tr>\n",
       "    <tr>\n",
       "      <th>5</th>\n",
       "      <td>Wojtek</td>\n",
       "      <td>Szymon</td>\n",
       "      <td>Krzysiu</td>\n",
       "      <td>Dawid</td>\n",
       "      <td>8</td>\n",
       "      <td>3</td>\n",
       "      <td>1</td>\n",
       "    </tr>\n",
       "    <tr>\n",
       "      <th>6</th>\n",
       "      <td>Krzysiu</td>\n",
       "      <td>Wojtek</td>\n",
       "      <td>Szymon</td>\n",
       "      <td>Dawid</td>\n",
       "      <td>4</td>\n",
       "      <td>8</td>\n",
       "      <td>2</td>\n",
       "    </tr>\n",
       "    <tr>\n",
       "      <th>7</th>\n",
       "      <td>Wojtek</td>\n",
       "      <td>Krzysiu</td>\n",
       "      <td>Dawid</td>\n",
       "      <td>Szymon</td>\n",
       "      <td>2</td>\n",
       "      <td>8</td>\n",
       "      <td>2</td>\n",
       "    </tr>\n",
       "    <tr>\n",
       "      <th>8</th>\n",
       "      <td>Szymon</td>\n",
       "      <td>Kuba</td>\n",
       "      <td>Dawid</td>\n",
       "      <td>Wojtek</td>\n",
       "      <td>8</td>\n",
       "      <td>1</td>\n",
       "      <td>1</td>\n",
       "    </tr>\n",
       "    <tr>\n",
       "      <th>9</th>\n",
       "      <td>Kuba</td>\n",
       "      <td>Szymon</td>\n",
       "      <td>Wojtek</td>\n",
       "      <td>Dawid</td>\n",
       "      <td>5</td>\n",
       "      <td>8</td>\n",
       "      <td>2</td>\n",
       "    </tr>\n",
       "    <tr>\n",
       "      <th>10</th>\n",
       "      <td>Szymon</td>\n",
       "      <td>Krzysiu</td>\n",
       "      <td>Dawid</td>\n",
       "      <td>Wojtek</td>\n",
       "      <td>8</td>\n",
       "      <td>6</td>\n",
       "      <td>1</td>\n",
       "    </tr>\n",
       "    <tr>\n",
       "      <th>11</th>\n",
       "      <td>Krzysiu</td>\n",
       "      <td>Szymon</td>\n",
       "      <td>Wojtek</td>\n",
       "      <td>Dawd</td>\n",
       "      <td>8</td>\n",
       "      <td>7</td>\n",
       "      <td>1</td>\n",
       "    </tr>\n",
       "  </tbody>\n",
       "</table>\n",
       "</div>"
      ],
      "text/plain": [
       "   Attack_1 Defense_1 Attack_2 Defense_2  G1  G2  Win\n",
       "0    Szymon     Dawid     Eryk    Wojtek   8   5    1\n",
       "1     Dawid    Szymon   Wojtek      Eryk   7   8    2\n",
       "2    Szymon   Krzysiu     Kuba    Wojtek   8   3    1\n",
       "3   Krzysiu    Szymon   Wojtek      Kuba   7   8    2\n",
       "4    Szymon    Wojtek    Dawid   Krzysiu   8   5    1\n",
       "5    Wojtek    Szymon  Krzysiu     Dawid   8   3    1\n",
       "6   Krzysiu    Wojtek   Szymon     Dawid   4   8    2\n",
       "7    Wojtek   Krzysiu    Dawid    Szymon   2   8    2\n",
       "8    Szymon      Kuba    Dawid    Wojtek   8   1    1\n",
       "9      Kuba    Szymon   Wojtek     Dawid   5   8    2\n",
       "10   Szymon   Krzysiu    Dawid    Wojtek   8   6    1\n",
       "11  Krzysiu    Szymon   Wojtek      Dawd   8   7    1"
      ]
     },
     "execution_count": 93,
     "metadata": {},
     "output_type": "execute_result"
    }
   ],
   "source": [
    "df.head(13)"
   ]
  },
  {
   "cell_type": "code",
   "execution_count": 94,
   "id": "c1b58d1b-d97c-40f9-8df9-f77c68b74bde",
   "metadata": {},
   "outputs": [],
   "source": [
    "# df = df.drop('Date')\n",
    "# df.applymap(lambda x: 'Szymon'.lower() in str(x).lower()).any(1).sum()\n",
    "\n",
    "# index1 = pd.MultiIndex.from_arrays([df[col] for col in ['Attack_1', 'Defense_1']])\n",
    "# index2 = pd.MultiIndex.from_arrays([df[col] for col in ['Attack_2', 'Defense_2']])\n",
    "\n"
   ]
  },
  {
   "cell_type": "code",
   "execution_count": 121,
   "id": "b9bd8e66-24e2-467f-af33-6820d0509a39",
   "metadata": {},
   "outputs": [
    {
     "ename": "AttributeError",
     "evalue": "'str' object has no attribute 'isin'",
     "output_type": "error",
     "traceback": [
      "\u001b[1;31m---------------------------------------------------------------------------\u001b[0m",
      "\u001b[1;31mAttributeError\u001b[0m                            Traceback (most recent call last)",
      "Cell \u001b[1;32mIn[121], line 1\u001b[0m\n\u001b[1;32m----> 1\u001b[0m df\u001b[38;5;241m.\u001b[39mloc[\u001b[38;5;124;43m'\u001b[39;49m\u001b[38;5;124;43mKrzysiu\u001b[39;49m\u001b[38;5;124;43m'\u001b[39;49m\u001b[38;5;241;43m.\u001b[39;49m\u001b[43misin\u001b[49m(index1)]\n",
      "\u001b[1;31mAttributeError\u001b[0m: 'str' object has no attribute 'isin'"
     ]
    }
   ],
   "source": []
  },
  {
   "cell_type": "code",
   "execution_count": 54,
   "id": "9c6500f2-981e-49f4-86f5-6dfbe4059e5a",
   "metadata": {},
   "outputs": [
    {
     "data": {
      "text/plain": [
       "8"
      ]
     },
     "execution_count": 54,
     "metadata": {},
     "output_type": "execute_result"
    }
   ],
   "source": [
    "matches_played = played.sum(axis=0)\n",
    "matches_played"
   ]
  },
  {
   "cell_type": "code",
   "execution_count": null,
   "id": "4b9a021f-4700-4838-808a-b3ce73a90e32",
   "metadata": {},
   "outputs": [],
   "source": []
  }
 ],
 "metadata": {
  "kernelspec": {
   "display_name": "Python 3 (ipykernel)",
   "language": "python",
   "name": "python3"
  },
  "language_info": {
   "codemirror_mode": {
    "name": "ipython",
    "version": 3
   },
   "file_extension": ".py",
   "mimetype": "text/x-python",
   "name": "python",
   "nbconvert_exporter": "python",
   "pygments_lexer": "ipython3",
   "version": "3.11.2"
  }
 },
 "nbformat": 4,
 "nbformat_minor": 5
}
