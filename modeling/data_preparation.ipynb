{
 "cells": [
  {
   "cell_type": "code",
   "execution_count": 22,
   "id": "2d5f54d1-4704-41c1-a270-964c965b9fa6",
   "metadata": {
    "tags": []
   },
   "outputs": [],
   "source": [
    "import numpy as np\n",
    "import pandas as pd\n",
    "import plotly.express as px\n",
    "import matplotlib.pyplot as plt\n",
    "import seaborn as sns\n",
    "import streamlit as st\n",
    "from PIL import Image\n",
    "\n",
    "from sklearn.model_selection import train_test_split\n",
    "from sklearn.preprocessing import OneHotEncoder\n",
    "\n",
    "pd.options.mode.chained_assignment = None\n",
    "\n",
    "import warnings\n",
    "\n",
    "import sys\n",
    "sys.path.append('../')\n",
    "\n",
    "from stats import win_rate, count, played, goals_scored_total, goals_scored_avg, goals_lost_total, goals_lost_avg, winrate_w_partner\n",
    "\n",
    "from sklearn.linear_model import ElasticNetCV\n",
    "from sklearn.metrics import r2_score\n",
    "\n"
   ]
  },
  {
   "cell_type": "code",
   "execution_count": 2,
   "id": "61471bc4-0c43-4b49-8909-63628e61cb10",
   "metadata": {},
   "outputs": [],
   "source": [
    "df = pd.read_excel('../data/seuk_04.xlsx')"
   ]
  },
  {
   "cell_type": "code",
   "execution_count": 3,
   "id": "d293585d-8776-4f03-8899-720d0fbffe2d",
   "metadata": {
    "tags": []
   },
   "outputs": [],
   "source": [
    "df = df.drop('Date', axis = 1)"
   ]
  },
  {
   "cell_type": "code",
   "execution_count": 4,
   "id": "b2a234fc-ed22-43c4-84c8-3727b5144ba5",
   "metadata": {
    "tags": []
   },
   "outputs": [
    {
     "data": {
      "text/plain": [
       "array(['Szymon', 'Dawid', 'Krzysiu', 'Wojtek', 'Kuba', 'Eryk'],\n",
       "      dtype=object)"
      ]
     },
     "execution_count": 4,
     "metadata": {},
     "output_type": "execute_result"
    }
   ],
   "source": [
    "pd.unique(df[['Attack_1', 'Defence_1', 'Attack_2', 'Defence_2']].values.ravel('K'))"
   ]
  },
  {
   "cell_type": "code",
   "execution_count": 5,
   "id": "7f5e3d2e-3851-4677-8e7c-2dfba476dc99",
   "metadata": {
    "tags": []
   },
   "outputs": [],
   "source": [
    "df['score'] = df['G1'] - df['G2']"
   ]
  },
  {
   "cell_type": "code",
   "execution_count": 6,
   "id": "ebb42187-7f7d-4ad9-b7c7-c4c68e64bfaa",
   "metadata": {
    "tags": []
   },
   "outputs": [],
   "source": [
    "X = df[['Attack_1', 'Defence_1', 'Attack_2', 'Defence_2']]\n",
    "Y = df['score']"
   ]
  },
  {
   "cell_type": "code",
   "execution_count": 7,
   "id": "75e773de-fc40-44a5-8d0d-372663df4d61",
   "metadata": {
    "tags": []
   },
   "outputs": [],
   "source": [
    "ohe = OneHotEncoder()\n",
    "X_one_hot = ohe.fit_transform(X)\n",
    "columns_names = ohe.get_feature_names_out(['Attack_1', 'Defence_1', 'Attack_2', 'Defence_2'])\n",
    "one_hot_encoded_frame = pd.DataFrame.sparse.from_spmatrix(X_one_hot, columns=columns_names)\n"
   ]
  },
  {
   "cell_type": "code",
   "execution_count": 10,
   "id": "8b4b1b68-9ad5-4b96-94a1-95623e810c61",
   "metadata": {
    "tags": []
   },
   "outputs": [
    {
     "data": {
      "text/html": [
       "<div>\n",
       "<style scoped>\n",
       "    .dataframe tbody tr th:only-of-type {\n",
       "        vertical-align: middle;\n",
       "    }\n",
       "\n",
       "    .dataframe tbody tr th {\n",
       "        vertical-align: top;\n",
       "    }\n",
       "\n",
       "    .dataframe thead th {\n",
       "        text-align: right;\n",
       "    }\n",
       "</style>\n",
       "<table border=\"1\" class=\"dataframe\">\n",
       "  <thead>\n",
       "    <tr style=\"text-align: right;\">\n",
       "      <th></th>\n",
       "      <th>Attack_1_Dawid</th>\n",
       "      <th>Attack_1_Eryk</th>\n",
       "      <th>Attack_1_Krzysiu</th>\n",
       "      <th>Attack_1_Kuba</th>\n",
       "      <th>Attack_1_Szymon</th>\n",
       "      <th>Attack_1_Wojtek</th>\n",
       "      <th>Defence_1_Dawid</th>\n",
       "      <th>Defence_1_Eryk</th>\n",
       "      <th>Defence_1_Krzysiu</th>\n",
       "      <th>Defence_1_Kuba</th>\n",
       "      <th>...</th>\n",
       "      <th>Attack_2_Krzysiu</th>\n",
       "      <th>Attack_2_Kuba</th>\n",
       "      <th>Attack_2_Szymon</th>\n",
       "      <th>Attack_2_Wojtek</th>\n",
       "      <th>Defence_2_Dawid</th>\n",
       "      <th>Defence_2_Eryk</th>\n",
       "      <th>Defence_2_Krzysiu</th>\n",
       "      <th>Defence_2_Kuba</th>\n",
       "      <th>Defence_2_Szymon</th>\n",
       "      <th>Defence_2_Wojtek</th>\n",
       "    </tr>\n",
       "  </thead>\n",
       "  <tbody>\n",
       "    <tr>\n",
       "      <th>0</th>\n",
       "      <td>0.0</td>\n",
       "      <td>0.0</td>\n",
       "      <td>0.0</td>\n",
       "      <td>0.0</td>\n",
       "      <td>1.0</td>\n",
       "      <td>0.0</td>\n",
       "      <td>1.0</td>\n",
       "      <td>0.0</td>\n",
       "      <td>0.0</td>\n",
       "      <td>0.0</td>\n",
       "      <td>...</td>\n",
       "      <td>0.0</td>\n",
       "      <td>0.0</td>\n",
       "      <td>0.0</td>\n",
       "      <td>0.0</td>\n",
       "      <td>0.0</td>\n",
       "      <td>0.0</td>\n",
       "      <td>0.0</td>\n",
       "      <td>0.0</td>\n",
       "      <td>0.0</td>\n",
       "      <td>1.0</td>\n",
       "    </tr>\n",
       "    <tr>\n",
       "      <th>1</th>\n",
       "      <td>1.0</td>\n",
       "      <td>0.0</td>\n",
       "      <td>0.0</td>\n",
       "      <td>0.0</td>\n",
       "      <td>0.0</td>\n",
       "      <td>0.0</td>\n",
       "      <td>0.0</td>\n",
       "      <td>0.0</td>\n",
       "      <td>0.0</td>\n",
       "      <td>0.0</td>\n",
       "      <td>...</td>\n",
       "      <td>0.0</td>\n",
       "      <td>0.0</td>\n",
       "      <td>0.0</td>\n",
       "      <td>1.0</td>\n",
       "      <td>0.0</td>\n",
       "      <td>1.0</td>\n",
       "      <td>0.0</td>\n",
       "      <td>0.0</td>\n",
       "      <td>0.0</td>\n",
       "      <td>0.0</td>\n",
       "    </tr>\n",
       "    <tr>\n",
       "      <th>2</th>\n",
       "      <td>0.0</td>\n",
       "      <td>0.0</td>\n",
       "      <td>0.0</td>\n",
       "      <td>0.0</td>\n",
       "      <td>1.0</td>\n",
       "      <td>0.0</td>\n",
       "      <td>0.0</td>\n",
       "      <td>0.0</td>\n",
       "      <td>1.0</td>\n",
       "      <td>0.0</td>\n",
       "      <td>...</td>\n",
       "      <td>0.0</td>\n",
       "      <td>1.0</td>\n",
       "      <td>0.0</td>\n",
       "      <td>0.0</td>\n",
       "      <td>0.0</td>\n",
       "      <td>0.0</td>\n",
       "      <td>0.0</td>\n",
       "      <td>0.0</td>\n",
       "      <td>0.0</td>\n",
       "      <td>1.0</td>\n",
       "    </tr>\n",
       "    <tr>\n",
       "      <th>3</th>\n",
       "      <td>0.0</td>\n",
       "      <td>0.0</td>\n",
       "      <td>1.0</td>\n",
       "      <td>0.0</td>\n",
       "      <td>0.0</td>\n",
       "      <td>0.0</td>\n",
       "      <td>0.0</td>\n",
       "      <td>0.0</td>\n",
       "      <td>0.0</td>\n",
       "      <td>0.0</td>\n",
       "      <td>...</td>\n",
       "      <td>0.0</td>\n",
       "      <td>0.0</td>\n",
       "      <td>0.0</td>\n",
       "      <td>1.0</td>\n",
       "      <td>0.0</td>\n",
       "      <td>0.0</td>\n",
       "      <td>0.0</td>\n",
       "      <td>1.0</td>\n",
       "      <td>0.0</td>\n",
       "      <td>0.0</td>\n",
       "    </tr>\n",
       "    <tr>\n",
       "      <th>4</th>\n",
       "      <td>0.0</td>\n",
       "      <td>0.0</td>\n",
       "      <td>0.0</td>\n",
       "      <td>0.0</td>\n",
       "      <td>1.0</td>\n",
       "      <td>0.0</td>\n",
       "      <td>0.0</td>\n",
       "      <td>0.0</td>\n",
       "      <td>0.0</td>\n",
       "      <td>0.0</td>\n",
       "      <td>...</td>\n",
       "      <td>0.0</td>\n",
       "      <td>0.0</td>\n",
       "      <td>0.0</td>\n",
       "      <td>0.0</td>\n",
       "      <td>0.0</td>\n",
       "      <td>0.0</td>\n",
       "      <td>1.0</td>\n",
       "      <td>0.0</td>\n",
       "      <td>0.0</td>\n",
       "      <td>0.0</td>\n",
       "    </tr>\n",
       "  </tbody>\n",
       "</table>\n",
       "<p>5 rows × 24 columns</p>\n",
       "</div>"
      ],
      "text/plain": [
       "   Attack_1_Dawid  Attack_1_Eryk  Attack_1_Krzysiu  Attack_1_Kuba   \n",
       "0             0.0            0.0               0.0            0.0  \\\n",
       "1             1.0            0.0               0.0            0.0   \n",
       "2             0.0            0.0               0.0            0.0   \n",
       "3             0.0            0.0               1.0            0.0   \n",
       "4             0.0            0.0               0.0            0.0   \n",
       "\n",
       "   Attack_1_Szymon  Attack_1_Wojtek  Defence_1_Dawid  Defence_1_Eryk   \n",
       "0              1.0              0.0              1.0             0.0  \\\n",
       "1              0.0              0.0              0.0             0.0   \n",
       "2              1.0              0.0              0.0             0.0   \n",
       "3              0.0              0.0              0.0             0.0   \n",
       "4              1.0              0.0              0.0             0.0   \n",
       "\n",
       "   Defence_1_Krzysiu  Defence_1_Kuba  ...  Attack_2_Krzysiu  Attack_2_Kuba   \n",
       "0                0.0             0.0  ...               0.0            0.0  \\\n",
       "1                0.0             0.0  ...               0.0            0.0   \n",
       "2                1.0             0.0  ...               0.0            1.0   \n",
       "3                0.0             0.0  ...               0.0            0.0   \n",
       "4                0.0             0.0  ...               0.0            0.0   \n",
       "\n",
       "   Attack_2_Szymon  Attack_2_Wojtek  Defence_2_Dawid  Defence_2_Eryk   \n",
       "0              0.0              0.0              0.0             0.0  \\\n",
       "1              0.0              1.0              0.0             1.0   \n",
       "2              0.0              0.0              0.0             0.0   \n",
       "3              0.0              1.0              0.0             0.0   \n",
       "4              0.0              0.0              0.0             0.0   \n",
       "\n",
       "   Defence_2_Krzysiu  Defence_2_Kuba  Defence_2_Szymon  Defence_2_Wojtek  \n",
       "0                0.0             0.0               0.0               1.0  \n",
       "1                0.0             0.0               0.0               0.0  \n",
       "2                0.0             0.0               0.0               1.0  \n",
       "3                0.0             1.0               0.0               0.0  \n",
       "4                1.0             0.0               0.0               0.0  \n",
       "\n",
       "[5 rows x 24 columns]"
      ]
     },
     "execution_count": 10,
     "metadata": {},
     "output_type": "execute_result"
    }
   ],
   "source": [
    "one_hot_encoded_frame.head(5)"
   ]
  },
  {
   "cell_type": "code",
   "execution_count": 16,
   "id": "32509317-9d50-4da2-a366-5829038bc4dc",
   "metadata": {
    "tags": []
   },
   "outputs": [],
   "source": [
    "x_train, x_test, y_train, y_test = train_test_split(X_one_hot.toarray(), Y, test_size = 0.25, random_state = 4)"
   ]
  },
  {
   "cell_type": "code",
   "execution_count": 20,
   "id": "de429bdc-e716-4dc6-95c5-aa4b9de3bc71",
   "metadata": {
    "tags": []
   },
   "outputs": [
    {
     "data": {
      "text/plain": [
       "((133, 24), (45, 24))"
      ]
     },
     "execution_count": 20,
     "metadata": {},
     "output_type": "execute_result"
    }
   ],
   "source": [
    "x_train.shape, x_test.shape"
   ]
  },
  {
   "cell_type": "code",
   "execution_count": 21,
   "id": "095722b6-cca7-49c1-9db7-a49d43b6a150",
   "metadata": {
    "tags": []
   },
   "outputs": [
    {
     "data": {
      "text/html": [
       "<style>#sk-container-id-1 {color: black;background-color: white;}#sk-container-id-1 pre{padding: 0;}#sk-container-id-1 div.sk-toggleable {background-color: white;}#sk-container-id-1 label.sk-toggleable__label {cursor: pointer;display: block;width: 100%;margin-bottom: 0;padding: 0.3em;box-sizing: border-box;text-align: center;}#sk-container-id-1 label.sk-toggleable__label-arrow:before {content: \"▸\";float: left;margin-right: 0.25em;color: #696969;}#sk-container-id-1 label.sk-toggleable__label-arrow:hover:before {color: black;}#sk-container-id-1 div.sk-estimator:hover label.sk-toggleable__label-arrow:before {color: black;}#sk-container-id-1 div.sk-toggleable__content {max-height: 0;max-width: 0;overflow: hidden;text-align: left;background-color: #f0f8ff;}#sk-container-id-1 div.sk-toggleable__content pre {margin: 0.2em;color: black;border-radius: 0.25em;background-color: #f0f8ff;}#sk-container-id-1 input.sk-toggleable__control:checked~div.sk-toggleable__content {max-height: 200px;max-width: 100%;overflow: auto;}#sk-container-id-1 input.sk-toggleable__control:checked~label.sk-toggleable__label-arrow:before {content: \"▾\";}#sk-container-id-1 div.sk-estimator input.sk-toggleable__control:checked~label.sk-toggleable__label {background-color: #d4ebff;}#sk-container-id-1 div.sk-label input.sk-toggleable__control:checked~label.sk-toggleable__label {background-color: #d4ebff;}#sk-container-id-1 input.sk-hidden--visually {border: 0;clip: rect(1px 1px 1px 1px);clip: rect(1px, 1px, 1px, 1px);height: 1px;margin: -1px;overflow: hidden;padding: 0;position: absolute;width: 1px;}#sk-container-id-1 div.sk-estimator {font-family: monospace;background-color: #f0f8ff;border: 1px dotted black;border-radius: 0.25em;box-sizing: border-box;margin-bottom: 0.5em;}#sk-container-id-1 div.sk-estimator:hover {background-color: #d4ebff;}#sk-container-id-1 div.sk-parallel-item::after {content: \"\";width: 100%;border-bottom: 1px solid gray;flex-grow: 1;}#sk-container-id-1 div.sk-label:hover label.sk-toggleable__label {background-color: #d4ebff;}#sk-container-id-1 div.sk-serial::before {content: \"\";position: absolute;border-left: 1px solid gray;box-sizing: border-box;top: 0;bottom: 0;left: 50%;z-index: 0;}#sk-container-id-1 div.sk-serial {display: flex;flex-direction: column;align-items: center;background-color: white;padding-right: 0.2em;padding-left: 0.2em;position: relative;}#sk-container-id-1 div.sk-item {position: relative;z-index: 1;}#sk-container-id-1 div.sk-parallel {display: flex;align-items: stretch;justify-content: center;background-color: white;position: relative;}#sk-container-id-1 div.sk-item::before, #sk-container-id-1 div.sk-parallel-item::before {content: \"\";position: absolute;border-left: 1px solid gray;box-sizing: border-box;top: 0;bottom: 0;left: 50%;z-index: -1;}#sk-container-id-1 div.sk-parallel-item {display: flex;flex-direction: column;z-index: 1;position: relative;background-color: white;}#sk-container-id-1 div.sk-parallel-item:first-child::after {align-self: flex-end;width: 50%;}#sk-container-id-1 div.sk-parallel-item:last-child::after {align-self: flex-start;width: 50%;}#sk-container-id-1 div.sk-parallel-item:only-child::after {width: 0;}#sk-container-id-1 div.sk-dashed-wrapped {border: 1px dashed gray;margin: 0 0.4em 0.5em 0.4em;box-sizing: border-box;padding-bottom: 0.4em;background-color: white;}#sk-container-id-1 div.sk-label label {font-family: monospace;font-weight: bold;display: inline-block;line-height: 1.2em;}#sk-container-id-1 div.sk-label-container {text-align: center;}#sk-container-id-1 div.sk-container {/* jupyter's `normalize.less` sets `[hidden] { display: none; }` but bootstrap.min.css set `[hidden] { display: none !important; }` so we also need the `!important` here to be able to override the default hidden behavior on the sphinx rendered scikit-learn.org. See: https://github.com/scikit-learn/scikit-learn/issues/21755 */display: inline-block !important;position: relative;}#sk-container-id-1 div.sk-text-repr-fallback {display: none;}</style><div id=\"sk-container-id-1\" class=\"sk-top-container\"><div class=\"sk-text-repr-fallback\"><pre>ElasticNetCV(cv=5, random_state=4)</pre><b>In a Jupyter environment, please rerun this cell to show the HTML representation or trust the notebook. <br />On GitHub, the HTML representation is unable to render, please try loading this page with nbviewer.org.</b></div><div class=\"sk-container\" hidden><div class=\"sk-item\"><div class=\"sk-estimator sk-toggleable\"><input class=\"sk-toggleable__control sk-hidden--visually\" id=\"sk-estimator-id-1\" type=\"checkbox\" checked><label for=\"sk-estimator-id-1\" class=\"sk-toggleable__label sk-toggleable__label-arrow\">ElasticNetCV</label><div class=\"sk-toggleable__content\"><pre>ElasticNetCV(cv=5, random_state=4)</pre></div></div></div></div></div>"
      ],
      "text/plain": [
       "ElasticNetCV(cv=5, random_state=4)"
      ]
     },
     "execution_count": 21,
     "metadata": {},
     "output_type": "execute_result"
    }
   ],
   "source": [
    "regr = ElasticNetCV(cv=5, random_state=4)\n",
    "regr.fit(x_train, y_train)"
   ]
  },
  {
   "cell_type": "code",
   "execution_count": 24,
   "id": "7081d6c9-5346-491a-97f9-e75e09051b95",
   "metadata": {
    "tags": []
   },
   "outputs": [],
   "source": [
    "y_pred = regr.predict(x_test)"
   ]
  },
  {
   "cell_type": "code",
   "execution_count": 25,
   "id": "6d02a17b-a1fc-42db-bafd-81a693a1bad6",
   "metadata": {},
   "outputs": [
    {
     "data": {
      "text/plain": [
       "0.17189265997594327"
      ]
     },
     "execution_count": 25,
     "metadata": {},
     "output_type": "execute_result"
    }
   ],
   "source": [
    "r2_score(y_test, y_pred)"
   ]
  },
  {
   "cell_type": "code",
   "execution_count": 26,
   "id": "10399c4a-48ce-491c-923d-944e09702176",
   "metadata": {
    "tags": []
   },
   "outputs": [
    {
     "data": {
      "text/plain": [
       "array([ 1.82484391,  3.27150085, -1.66836943, -1.35239226,  3.24945441,\n",
       "        0.51620099, -0.40579375,  2.19403682,  2.54882333, -1.3769271 ,\n",
       "        2.36416934,  1.48719173, -0.40579375,  1.0299278 ,  0.3895271 ,\n",
       "       -0.36626939, -0.52849747,  1.48719173, -1.6722213 ,  2.01070081,\n",
       "        4.70231963, -1.13113817, -1.89171769,  2.19403682, -2.59902456,\n",
       "        0.35166429, -1.00875591, -1.32046423, -1.89171769, -1.28139603,\n",
       "       -1.32046423,  2.75499462,  2.80482026,  1.96305573, -4.39915003,\n",
       "       -1.28139603,  0.3895271 ,  2.80482026, -0.40579375,  1.76038014,\n",
       "        1.11664107,  4.68998446, -0.01451232,  0.37333638,  0.07789153])"
      ]
     },
     "execution_count": 26,
     "metadata": {},
     "output_type": "execute_result"
    }
   ],
   "source": [
    "y_pred"
   ]
  },
  {
   "cell_type": "code",
   "execution_count": null,
   "id": "744177b8-0c84-45bb-bc08-ae4f601ffad6",
   "metadata": {},
   "outputs": [],
   "source": []
  }
 ],
 "metadata": {
  "kernelspec": {
   "display_name": "Python 3 (ipykernel)",
   "language": "python",
   "name": "python3"
  },
  "language_info": {
   "codemirror_mode": {
    "name": "ipython",
    "version": 3
   },
   "file_extension": ".py",
   "mimetype": "text/x-python",
   "name": "python",
   "nbconvert_exporter": "python",
   "pygments_lexer": "ipython3",
   "version": "3.11.3"
  }
 },
 "nbformat": 4,
 "nbformat_minor": 5
}
